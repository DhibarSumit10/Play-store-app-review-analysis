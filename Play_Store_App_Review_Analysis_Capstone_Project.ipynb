{
  "nbformat": 4,
  "nbformat_minor": 0,
  "metadata": {
    "kernelspec": {
      "display_name": "Python 3",
      "language": "python",
      "name": "python3"
    },
    "language_info": {
      "codemirror_mode": {
        "name": "ipython",
        "version": 3
      },
      "file_extension": ".py",
      "mimetype": "text/x-python",
      "name": "python",
      "nbconvert_exporter": "python",
      "pygments_lexer": "ipython3",
      "version": "3.6.6"
    },
    "colab": {
      "provenance": [],
      "include_colab_link": true
    }
  },
  "cells": [
    {
      "cell_type": "markdown",
      "metadata": {
        "id": "view-in-github",
        "colab_type": "text"
      },
      "source": [
        "<a href=\"https://colab.research.google.com/github/DhibarSumit10/Play-store-app-review-analysis/blob/main/Play_Store_App_Review_Analysis_Capstone_Project.ipynb\" target=\"_parent\"><img src=\"https://colab.research.google.com/assets/colab-badge.svg\" alt=\"Open In Colab\"/></a>"
      ]
    },
    {
      "cell_type": "markdown",
      "metadata": {
        "id": "Y06xIdG26kRF"
      },
      "source": [
        "## <b> The Play Store apps data has enormous potential to drive app-making businesses to success. Actionable insights can be drawn for developers to work on and capture the Android market. </b>\n",
        "\n",
        "## <b> Each app (row) has values for catergory, rating, size, and more. Another dataset contains customer reviews of the android apps.</b>\n",
        "\n",
        "## <b> Explore and analyze the data to discover key factors responsible for app engagement and success.</b>"
      ]
    },
    {
      "cell_type": "markdown",
      "source": [
        "# **Objective of this Project -**"
      ],
      "metadata": {
        "id": "VZvZ2a-2clhn"
      }
    },
    {
      "cell_type": "markdown",
      "source": [
        "\n",
        "*   Installation of application by users according to the categories.\n",
        "\n",
        "*   Mostly demanded applications in playstore.\n",
        "\n",
        "*   Factors that affect the installation of application by the user."
      ],
      "metadata": {
        "id": "woeQvIVmcZtR"
      }
    },
    {
      "cell_type": "code",
      "source": [
        "from google.colab import drive\n",
        "drive.mount('/content/drive')"
      ],
      "metadata": {
        "colab": {
          "base_uri": "https://localhost:8080/"
        },
        "id": "vnlf6AMicHam",
        "outputId": "64dc5f0c-01a5-4dc0-835f-f439feb871aa"
      },
      "execution_count": null,
      "outputs": [
        {
          "output_type": "stream",
          "name": "stdout",
          "text": [
            "Mounted at /content/drive\n"
          ]
        }
      ]
    },
    {
      "cell_type": "code",
      "source": [
        "import numpy as np\n",
        "import pandas as pd\n",
        "import seaborn as sns\n",
        "import matplotlib.pyplot as plt\n",
        "\n",
        "%matplotlib inline"
      ],
      "metadata": {
        "id": "OusUJwy6frLy"
      },
      "execution_count": null,
      "outputs": []
    },
    {
      "cell_type": "code",
      "source": [
        "Play_store_data_file_path = \"/content/drive/MyDrive/Colab Notebooks/Play Store App Review Analysis - SUMIT KUMAR DHIBAR/Play Store Data.csv\"\n",
        "Play_store_data_df = pd.read_csv(Play_store_data_file_path)"
      ],
      "metadata": {
        "id": "4LVucTwCf_t4"
      },
      "execution_count": null,
      "outputs": []
    },
    {
      "cell_type": "markdown",
      "source": [
        "## **First of all we will display all the columns names, shape, Null values and Datatypes of this Play Store dataset**"
      ],
      "metadata": {
        "id": "tjEuW2_sgWN1"
      }
    },
    {
      "cell_type": "code",
      "source": [
        "# Print all the column names\n",
        "\n",
        "Play_store_data_df.columns"
      ],
      "metadata": {
        "colab": {
          "base_uri": "https://localhost:8080/"
        },
        "id": "mg8ylOcBgYX9",
        "outputId": "cfee0360-2351-4241-dca0-0a3bae47929e"
      },
      "execution_count": null,
      "outputs": [
        {
          "output_type": "execute_result",
          "data": {
            "text/plain": [
              "Index(['App', 'Category', 'Rating', 'Reviews', 'Size', 'Installs', 'Type',\n",
              "       'Price', 'Content Rating', 'Genres', 'Last Updated', 'Current Ver',\n",
              "       'Android Ver'],\n",
              "      dtype='object')"
            ]
          },
          "metadata": {},
          "execution_count": 4
        }
      ]
    },
    {
      "cell_type": "code",
      "source": [
        "# Print the first 10 two rows of dataset\n",
        "\n",
        "Play_store_data_df.head(10)"
      ],
      "metadata": {
        "colab": {
          "base_uri": "https://localhost:8080/",
          "height": 581
        },
        "id": "TZQceO2dg6nF",
        "outputId": "6d42e559-f9b1-4fbc-fa8b-3823ad8e70fb"
      },
      "execution_count": null,
      "outputs": [
        {
          "output_type": "execute_result",
          "data": {
            "text/html": [
              "\n",
              "  <div id=\"df-a7fa3d15-6517-4b10-a2f2-38c594f9e837\">\n",
              "    <div class=\"colab-df-container\">\n",
              "      <div>\n",
              "<style scoped>\n",
              "    .dataframe tbody tr th:only-of-type {\n",
              "        vertical-align: middle;\n",
              "    }\n",
              "\n",
              "    .dataframe tbody tr th {\n",
              "        vertical-align: top;\n",
              "    }\n",
              "\n",
              "    .dataframe thead th {\n",
              "        text-align: right;\n",
              "    }\n",
              "</style>\n",
              "<table border=\"1\" class=\"dataframe\">\n",
              "  <thead>\n",
              "    <tr style=\"text-align: right;\">\n",
              "      <th></th>\n",
              "      <th>App</th>\n",
              "      <th>Category</th>\n",
              "      <th>Rating</th>\n",
              "      <th>Reviews</th>\n",
              "      <th>Size</th>\n",
              "      <th>Installs</th>\n",
              "      <th>Type</th>\n",
              "      <th>Price</th>\n",
              "      <th>Content Rating</th>\n",
              "      <th>Genres</th>\n",
              "      <th>Last Updated</th>\n",
              "      <th>Current Ver</th>\n",
              "      <th>Android Ver</th>\n",
              "    </tr>\n",
              "  </thead>\n",
              "  <tbody>\n",
              "    <tr>\n",
              "      <th>0</th>\n",
              "      <td>Photo Editor &amp; Candy Camera &amp; Grid &amp; ScrapBook</td>\n",
              "      <td>ART_AND_DESIGN</td>\n",
              "      <td>4.1</td>\n",
              "      <td>159</td>\n",
              "      <td>19M</td>\n",
              "      <td>10,000+</td>\n",
              "      <td>Free</td>\n",
              "      <td>0</td>\n",
              "      <td>Everyone</td>\n",
              "      <td>Art &amp; Design</td>\n",
              "      <td>January 7, 2018</td>\n",
              "      <td>1.0.0</td>\n",
              "      <td>4.0.3 and up</td>\n",
              "    </tr>\n",
              "    <tr>\n",
              "      <th>1</th>\n",
              "      <td>Coloring book moana</td>\n",
              "      <td>ART_AND_DESIGN</td>\n",
              "      <td>3.9</td>\n",
              "      <td>967</td>\n",
              "      <td>14M</td>\n",
              "      <td>500,000+</td>\n",
              "      <td>Free</td>\n",
              "      <td>0</td>\n",
              "      <td>Everyone</td>\n",
              "      <td>Art &amp; Design;Pretend Play</td>\n",
              "      <td>January 15, 2018</td>\n",
              "      <td>2.0.0</td>\n",
              "      <td>4.0.3 and up</td>\n",
              "    </tr>\n",
              "    <tr>\n",
              "      <th>2</th>\n",
              "      <td>U Launcher Lite – FREE Live Cool Themes, Hide ...</td>\n",
              "      <td>ART_AND_DESIGN</td>\n",
              "      <td>4.7</td>\n",
              "      <td>87510</td>\n",
              "      <td>8.7M</td>\n",
              "      <td>5,000,000+</td>\n",
              "      <td>Free</td>\n",
              "      <td>0</td>\n",
              "      <td>Everyone</td>\n",
              "      <td>Art &amp; Design</td>\n",
              "      <td>August 1, 2018</td>\n",
              "      <td>1.2.4</td>\n",
              "      <td>4.0.3 and up</td>\n",
              "    </tr>\n",
              "    <tr>\n",
              "      <th>3</th>\n",
              "      <td>Sketch - Draw &amp; Paint</td>\n",
              "      <td>ART_AND_DESIGN</td>\n",
              "      <td>4.5</td>\n",
              "      <td>215644</td>\n",
              "      <td>25M</td>\n",
              "      <td>50,000,000+</td>\n",
              "      <td>Free</td>\n",
              "      <td>0</td>\n",
              "      <td>Teen</td>\n",
              "      <td>Art &amp; Design</td>\n",
              "      <td>June 8, 2018</td>\n",
              "      <td>Varies with device</td>\n",
              "      <td>4.2 and up</td>\n",
              "    </tr>\n",
              "    <tr>\n",
              "      <th>4</th>\n",
              "      <td>Pixel Draw - Number Art Coloring Book</td>\n",
              "      <td>ART_AND_DESIGN</td>\n",
              "      <td>4.3</td>\n",
              "      <td>967</td>\n",
              "      <td>2.8M</td>\n",
              "      <td>100,000+</td>\n",
              "      <td>Free</td>\n",
              "      <td>0</td>\n",
              "      <td>Everyone</td>\n",
              "      <td>Art &amp; Design;Creativity</td>\n",
              "      <td>June 20, 2018</td>\n",
              "      <td>1.1</td>\n",
              "      <td>4.4 and up</td>\n",
              "    </tr>\n",
              "    <tr>\n",
              "      <th>5</th>\n",
              "      <td>Paper flowers instructions</td>\n",
              "      <td>ART_AND_DESIGN</td>\n",
              "      <td>4.4</td>\n",
              "      <td>167</td>\n",
              "      <td>5.6M</td>\n",
              "      <td>50,000+</td>\n",
              "      <td>Free</td>\n",
              "      <td>0</td>\n",
              "      <td>Everyone</td>\n",
              "      <td>Art &amp; Design</td>\n",
              "      <td>March 26, 2017</td>\n",
              "      <td>1.0</td>\n",
              "      <td>2.3 and up</td>\n",
              "    </tr>\n",
              "    <tr>\n",
              "      <th>6</th>\n",
              "      <td>Smoke Effect Photo Maker - Smoke Editor</td>\n",
              "      <td>ART_AND_DESIGN</td>\n",
              "      <td>3.8</td>\n",
              "      <td>178</td>\n",
              "      <td>19M</td>\n",
              "      <td>50,000+</td>\n",
              "      <td>Free</td>\n",
              "      <td>0</td>\n",
              "      <td>Everyone</td>\n",
              "      <td>Art &amp; Design</td>\n",
              "      <td>April 26, 2018</td>\n",
              "      <td>1.1</td>\n",
              "      <td>4.0.3 and up</td>\n",
              "    </tr>\n",
              "    <tr>\n",
              "      <th>7</th>\n",
              "      <td>Infinite Painter</td>\n",
              "      <td>ART_AND_DESIGN</td>\n",
              "      <td>4.1</td>\n",
              "      <td>36815</td>\n",
              "      <td>29M</td>\n",
              "      <td>1,000,000+</td>\n",
              "      <td>Free</td>\n",
              "      <td>0</td>\n",
              "      <td>Everyone</td>\n",
              "      <td>Art &amp; Design</td>\n",
              "      <td>June 14, 2018</td>\n",
              "      <td>6.1.61.1</td>\n",
              "      <td>4.2 and up</td>\n",
              "    </tr>\n",
              "    <tr>\n",
              "      <th>8</th>\n",
              "      <td>Garden Coloring Book</td>\n",
              "      <td>ART_AND_DESIGN</td>\n",
              "      <td>4.4</td>\n",
              "      <td>13791</td>\n",
              "      <td>33M</td>\n",
              "      <td>1,000,000+</td>\n",
              "      <td>Free</td>\n",
              "      <td>0</td>\n",
              "      <td>Everyone</td>\n",
              "      <td>Art &amp; Design</td>\n",
              "      <td>September 20, 2017</td>\n",
              "      <td>2.9.2</td>\n",
              "      <td>3.0 and up</td>\n",
              "    </tr>\n",
              "    <tr>\n",
              "      <th>9</th>\n",
              "      <td>Kids Paint Free - Drawing Fun</td>\n",
              "      <td>ART_AND_DESIGN</td>\n",
              "      <td>4.7</td>\n",
              "      <td>121</td>\n",
              "      <td>3.1M</td>\n",
              "      <td>10,000+</td>\n",
              "      <td>Free</td>\n",
              "      <td>0</td>\n",
              "      <td>Everyone</td>\n",
              "      <td>Art &amp; Design;Creativity</td>\n",
              "      <td>July 3, 2018</td>\n",
              "      <td>2.8</td>\n",
              "      <td>4.0.3 and up</td>\n",
              "    </tr>\n",
              "  </tbody>\n",
              "</table>\n",
              "</div>\n",
              "      <button class=\"colab-df-convert\" onclick=\"convertToInteractive('df-a7fa3d15-6517-4b10-a2f2-38c594f9e837')\"\n",
              "              title=\"Convert this dataframe to an interactive table.\"\n",
              "              style=\"display:none;\">\n",
              "        \n",
              "  <svg xmlns=\"http://www.w3.org/2000/svg\" height=\"24px\"viewBox=\"0 0 24 24\"\n",
              "       width=\"24px\">\n",
              "    <path d=\"M0 0h24v24H0V0z\" fill=\"none\"/>\n",
              "    <path d=\"M18.56 5.44l.94 2.06.94-2.06 2.06-.94-2.06-.94-.94-2.06-.94 2.06-2.06.94zm-11 1L8.5 8.5l.94-2.06 2.06-.94-2.06-.94L8.5 2.5l-.94 2.06-2.06.94zm10 10l.94 2.06.94-2.06 2.06-.94-2.06-.94-.94-2.06-.94 2.06-2.06.94z\"/><path d=\"M17.41 7.96l-1.37-1.37c-.4-.4-.92-.59-1.43-.59-.52 0-1.04.2-1.43.59L10.3 9.45l-7.72 7.72c-.78.78-.78 2.05 0 2.83L4 21.41c.39.39.9.59 1.41.59.51 0 1.02-.2 1.41-.59l7.78-7.78 2.81-2.81c.8-.78.8-2.07 0-2.86zM5.41 20L4 18.59l7.72-7.72 1.47 1.35L5.41 20z\"/>\n",
              "  </svg>\n",
              "      </button>\n",
              "      \n",
              "  <style>\n",
              "    .colab-df-container {\n",
              "      display:flex;\n",
              "      flex-wrap:wrap;\n",
              "      gap: 12px;\n",
              "    }\n",
              "\n",
              "    .colab-df-convert {\n",
              "      background-color: #E8F0FE;\n",
              "      border: none;\n",
              "      border-radius: 50%;\n",
              "      cursor: pointer;\n",
              "      display: none;\n",
              "      fill: #1967D2;\n",
              "      height: 32px;\n",
              "      padding: 0 0 0 0;\n",
              "      width: 32px;\n",
              "    }\n",
              "\n",
              "    .colab-df-convert:hover {\n",
              "      background-color: #E2EBFA;\n",
              "      box-shadow: 0px 1px 2px rgba(60, 64, 67, 0.3), 0px 1px 3px 1px rgba(60, 64, 67, 0.15);\n",
              "      fill: #174EA6;\n",
              "    }\n",
              "\n",
              "    [theme=dark] .colab-df-convert {\n",
              "      background-color: #3B4455;\n",
              "      fill: #D2E3FC;\n",
              "    }\n",
              "\n",
              "    [theme=dark] .colab-df-convert:hover {\n",
              "      background-color: #434B5C;\n",
              "      box-shadow: 0px 1px 3px 1px rgba(0, 0, 0, 0.15);\n",
              "      filter: drop-shadow(0px 1px 2px rgba(0, 0, 0, 0.3));\n",
              "      fill: #FFFFFF;\n",
              "    }\n",
              "  </style>\n",
              "\n",
              "      <script>\n",
              "        const buttonEl =\n",
              "          document.querySelector('#df-a7fa3d15-6517-4b10-a2f2-38c594f9e837 button.colab-df-convert');\n",
              "        buttonEl.style.display =\n",
              "          google.colab.kernel.accessAllowed ? 'block' : 'none';\n",
              "\n",
              "        async function convertToInteractive(key) {\n",
              "          const element = document.querySelector('#df-a7fa3d15-6517-4b10-a2f2-38c594f9e837');\n",
              "          const dataTable =\n",
              "            await google.colab.kernel.invokeFunction('convertToInteractive',\n",
              "                                                     [key], {});\n",
              "          if (!dataTable) return;\n",
              "\n",
              "          const docLinkHtml = 'Like what you see? Visit the ' +\n",
              "            '<a target=\"_blank\" href=https://colab.research.google.com/notebooks/data_table.ipynb>data table notebook</a>'\n",
              "            + ' to learn more about interactive tables.';\n",
              "          element.innerHTML = '';\n",
              "          dataTable['output_type'] = 'display_data';\n",
              "          await google.colab.output.renderOutput(dataTable, element);\n",
              "          const docLink = document.createElement('div');\n",
              "          docLink.innerHTML = docLinkHtml;\n",
              "          element.appendChild(docLink);\n",
              "        }\n",
              "      </script>\n",
              "    </div>\n",
              "  </div>\n",
              "  "
            ],
            "text/plain": [
              "                                                 App  ...   Android Ver\n",
              "0     Photo Editor & Candy Camera & Grid & ScrapBook  ...  4.0.3 and up\n",
              "1                                Coloring book moana  ...  4.0.3 and up\n",
              "2  U Launcher Lite – FREE Live Cool Themes, Hide ...  ...  4.0.3 and up\n",
              "3                              Sketch - Draw & Paint  ...    4.2 and up\n",
              "4              Pixel Draw - Number Art Coloring Book  ...    4.4 and up\n",
              "5                         Paper flowers instructions  ...    2.3 and up\n",
              "6            Smoke Effect Photo Maker - Smoke Editor  ...  4.0.3 and up\n",
              "7                                   Infinite Painter  ...    4.2 and up\n",
              "8                               Garden Coloring Book  ...    3.0 and up\n",
              "9                      Kids Paint Free - Drawing Fun  ...  4.0.3 and up\n",
              "\n",
              "[10 rows x 13 columns]"
            ]
          },
          "metadata": {},
          "execution_count": 5
        }
      ]
    },
    {
      "cell_type": "code",
      "source": [
        "# Print the last 10 two rows of dataset\n",
        "\n",
        "Play_store_data_df.tail(10)"
      ],
      "metadata": {
        "colab": {
          "base_uri": "https://localhost:8080/",
          "height": 633
        },
        "id": "e_uTbiHYhDLN",
        "outputId": "cd23348b-98d8-4aee-e84d-150b00abef8e"
      },
      "execution_count": null,
      "outputs": [
        {
          "output_type": "execute_result",
          "data": {
            "text/html": [
              "\n",
              "  <div id=\"df-19ca3333-ad9d-499b-a833-e180184a6299\">\n",
              "    <div class=\"colab-df-container\">\n",
              "      <div>\n",
              "<style scoped>\n",
              "    .dataframe tbody tr th:only-of-type {\n",
              "        vertical-align: middle;\n",
              "    }\n",
              "\n",
              "    .dataframe tbody tr th {\n",
              "        vertical-align: top;\n",
              "    }\n",
              "\n",
              "    .dataframe thead th {\n",
              "        text-align: right;\n",
              "    }\n",
              "</style>\n",
              "<table border=\"1\" class=\"dataframe\">\n",
              "  <thead>\n",
              "    <tr style=\"text-align: right;\">\n",
              "      <th></th>\n",
              "      <th>App</th>\n",
              "      <th>Category</th>\n",
              "      <th>Rating</th>\n",
              "      <th>Reviews</th>\n",
              "      <th>Size</th>\n",
              "      <th>Installs</th>\n",
              "      <th>Type</th>\n",
              "      <th>Price</th>\n",
              "      <th>Content Rating</th>\n",
              "      <th>Genres</th>\n",
              "      <th>Last Updated</th>\n",
              "      <th>Current Ver</th>\n",
              "      <th>Android Ver</th>\n",
              "    </tr>\n",
              "  </thead>\n",
              "  <tbody>\n",
              "    <tr>\n",
              "      <th>10831</th>\n",
              "      <td>payermonstationnement.fr</td>\n",
              "      <td>MAPS_AND_NAVIGATION</td>\n",
              "      <td>NaN</td>\n",
              "      <td>38</td>\n",
              "      <td>9.8M</td>\n",
              "      <td>5,000+</td>\n",
              "      <td>Free</td>\n",
              "      <td>0</td>\n",
              "      <td>Everyone</td>\n",
              "      <td>Maps &amp; Navigation</td>\n",
              "      <td>June 13, 2018</td>\n",
              "      <td>2.0.148.0</td>\n",
              "      <td>4.0 and up</td>\n",
              "    </tr>\n",
              "    <tr>\n",
              "      <th>10832</th>\n",
              "      <td>FR Tides</td>\n",
              "      <td>WEATHER</td>\n",
              "      <td>3.8</td>\n",
              "      <td>1195</td>\n",
              "      <td>582k</td>\n",
              "      <td>100,000+</td>\n",
              "      <td>Free</td>\n",
              "      <td>0</td>\n",
              "      <td>Everyone</td>\n",
              "      <td>Weather</td>\n",
              "      <td>February 16, 2014</td>\n",
              "      <td>6.0</td>\n",
              "      <td>2.1 and up</td>\n",
              "    </tr>\n",
              "    <tr>\n",
              "      <th>10833</th>\n",
              "      <td>Chemin (fr)</td>\n",
              "      <td>BOOKS_AND_REFERENCE</td>\n",
              "      <td>4.8</td>\n",
              "      <td>44</td>\n",
              "      <td>619k</td>\n",
              "      <td>1,000+</td>\n",
              "      <td>Free</td>\n",
              "      <td>0</td>\n",
              "      <td>Everyone</td>\n",
              "      <td>Books &amp; Reference</td>\n",
              "      <td>March 23, 2014</td>\n",
              "      <td>0.8</td>\n",
              "      <td>2.2 and up</td>\n",
              "    </tr>\n",
              "    <tr>\n",
              "      <th>10834</th>\n",
              "      <td>FR Calculator</td>\n",
              "      <td>FAMILY</td>\n",
              "      <td>4.0</td>\n",
              "      <td>7</td>\n",
              "      <td>2.6M</td>\n",
              "      <td>500+</td>\n",
              "      <td>Free</td>\n",
              "      <td>0</td>\n",
              "      <td>Everyone</td>\n",
              "      <td>Education</td>\n",
              "      <td>June 18, 2017</td>\n",
              "      <td>1.0.0</td>\n",
              "      <td>4.1 and up</td>\n",
              "    </tr>\n",
              "    <tr>\n",
              "      <th>10835</th>\n",
              "      <td>FR Forms</td>\n",
              "      <td>BUSINESS</td>\n",
              "      <td>NaN</td>\n",
              "      <td>0</td>\n",
              "      <td>9.6M</td>\n",
              "      <td>10+</td>\n",
              "      <td>Free</td>\n",
              "      <td>0</td>\n",
              "      <td>Everyone</td>\n",
              "      <td>Business</td>\n",
              "      <td>September 29, 2016</td>\n",
              "      <td>1.1.5</td>\n",
              "      <td>4.0 and up</td>\n",
              "    </tr>\n",
              "    <tr>\n",
              "      <th>10836</th>\n",
              "      <td>Sya9a Maroc - FR</td>\n",
              "      <td>FAMILY</td>\n",
              "      <td>4.5</td>\n",
              "      <td>38</td>\n",
              "      <td>53M</td>\n",
              "      <td>5,000+</td>\n",
              "      <td>Free</td>\n",
              "      <td>0</td>\n",
              "      <td>Everyone</td>\n",
              "      <td>Education</td>\n",
              "      <td>July 25, 2017</td>\n",
              "      <td>1.48</td>\n",
              "      <td>4.1 and up</td>\n",
              "    </tr>\n",
              "    <tr>\n",
              "      <th>10837</th>\n",
              "      <td>Fr. Mike Schmitz Audio Teachings</td>\n",
              "      <td>FAMILY</td>\n",
              "      <td>5.0</td>\n",
              "      <td>4</td>\n",
              "      <td>3.6M</td>\n",
              "      <td>100+</td>\n",
              "      <td>Free</td>\n",
              "      <td>0</td>\n",
              "      <td>Everyone</td>\n",
              "      <td>Education</td>\n",
              "      <td>July 6, 2018</td>\n",
              "      <td>1.0</td>\n",
              "      <td>4.1 and up</td>\n",
              "    </tr>\n",
              "    <tr>\n",
              "      <th>10838</th>\n",
              "      <td>Parkinson Exercices FR</td>\n",
              "      <td>MEDICAL</td>\n",
              "      <td>NaN</td>\n",
              "      <td>3</td>\n",
              "      <td>9.5M</td>\n",
              "      <td>1,000+</td>\n",
              "      <td>Free</td>\n",
              "      <td>0</td>\n",
              "      <td>Everyone</td>\n",
              "      <td>Medical</td>\n",
              "      <td>January 20, 2017</td>\n",
              "      <td>1.0</td>\n",
              "      <td>2.2 and up</td>\n",
              "    </tr>\n",
              "    <tr>\n",
              "      <th>10839</th>\n",
              "      <td>The SCP Foundation DB fr nn5n</td>\n",
              "      <td>BOOKS_AND_REFERENCE</td>\n",
              "      <td>4.5</td>\n",
              "      <td>114</td>\n",
              "      <td>Varies with device</td>\n",
              "      <td>1,000+</td>\n",
              "      <td>Free</td>\n",
              "      <td>0</td>\n",
              "      <td>Mature 17+</td>\n",
              "      <td>Books &amp; Reference</td>\n",
              "      <td>January 19, 2015</td>\n",
              "      <td>Varies with device</td>\n",
              "      <td>Varies with device</td>\n",
              "    </tr>\n",
              "    <tr>\n",
              "      <th>10840</th>\n",
              "      <td>iHoroscope - 2018 Daily Horoscope &amp; Astrology</td>\n",
              "      <td>LIFESTYLE</td>\n",
              "      <td>4.5</td>\n",
              "      <td>398307</td>\n",
              "      <td>19M</td>\n",
              "      <td>10,000,000+</td>\n",
              "      <td>Free</td>\n",
              "      <td>0</td>\n",
              "      <td>Everyone</td>\n",
              "      <td>Lifestyle</td>\n",
              "      <td>July 25, 2018</td>\n",
              "      <td>Varies with device</td>\n",
              "      <td>Varies with device</td>\n",
              "    </tr>\n",
              "  </tbody>\n",
              "</table>\n",
              "</div>\n",
              "      <button class=\"colab-df-convert\" onclick=\"convertToInteractive('df-19ca3333-ad9d-499b-a833-e180184a6299')\"\n",
              "              title=\"Convert this dataframe to an interactive table.\"\n",
              "              style=\"display:none;\">\n",
              "        \n",
              "  <svg xmlns=\"http://www.w3.org/2000/svg\" height=\"24px\"viewBox=\"0 0 24 24\"\n",
              "       width=\"24px\">\n",
              "    <path d=\"M0 0h24v24H0V0z\" fill=\"none\"/>\n",
              "    <path d=\"M18.56 5.44l.94 2.06.94-2.06 2.06-.94-2.06-.94-.94-2.06-.94 2.06-2.06.94zm-11 1L8.5 8.5l.94-2.06 2.06-.94-2.06-.94L8.5 2.5l-.94 2.06-2.06.94zm10 10l.94 2.06.94-2.06 2.06-.94-2.06-.94-.94-2.06-.94 2.06-2.06.94z\"/><path d=\"M17.41 7.96l-1.37-1.37c-.4-.4-.92-.59-1.43-.59-.52 0-1.04.2-1.43.59L10.3 9.45l-7.72 7.72c-.78.78-.78 2.05 0 2.83L4 21.41c.39.39.9.59 1.41.59.51 0 1.02-.2 1.41-.59l7.78-7.78 2.81-2.81c.8-.78.8-2.07 0-2.86zM5.41 20L4 18.59l7.72-7.72 1.47 1.35L5.41 20z\"/>\n",
              "  </svg>\n",
              "      </button>\n",
              "      \n",
              "  <style>\n",
              "    .colab-df-container {\n",
              "      display:flex;\n",
              "      flex-wrap:wrap;\n",
              "      gap: 12px;\n",
              "    }\n",
              "\n",
              "    .colab-df-convert {\n",
              "      background-color: #E8F0FE;\n",
              "      border: none;\n",
              "      border-radius: 50%;\n",
              "      cursor: pointer;\n",
              "      display: none;\n",
              "      fill: #1967D2;\n",
              "      height: 32px;\n",
              "      padding: 0 0 0 0;\n",
              "      width: 32px;\n",
              "    }\n",
              "\n",
              "    .colab-df-convert:hover {\n",
              "      background-color: #E2EBFA;\n",
              "      box-shadow: 0px 1px 2px rgba(60, 64, 67, 0.3), 0px 1px 3px 1px rgba(60, 64, 67, 0.15);\n",
              "      fill: #174EA6;\n",
              "    }\n",
              "\n",
              "    [theme=dark] .colab-df-convert {\n",
              "      background-color: #3B4455;\n",
              "      fill: #D2E3FC;\n",
              "    }\n",
              "\n",
              "    [theme=dark] .colab-df-convert:hover {\n",
              "      background-color: #434B5C;\n",
              "      box-shadow: 0px 1px 3px 1px rgba(0, 0, 0, 0.15);\n",
              "      filter: drop-shadow(0px 1px 2px rgba(0, 0, 0, 0.3));\n",
              "      fill: #FFFFFF;\n",
              "    }\n",
              "  </style>\n",
              "\n",
              "      <script>\n",
              "        const buttonEl =\n",
              "          document.querySelector('#df-19ca3333-ad9d-499b-a833-e180184a6299 button.colab-df-convert');\n",
              "        buttonEl.style.display =\n",
              "          google.colab.kernel.accessAllowed ? 'block' : 'none';\n",
              "\n",
              "        async function convertToInteractive(key) {\n",
              "          const element = document.querySelector('#df-19ca3333-ad9d-499b-a833-e180184a6299');\n",
              "          const dataTable =\n",
              "            await google.colab.kernel.invokeFunction('convertToInteractive',\n",
              "                                                     [key], {});\n",
              "          if (!dataTable) return;\n",
              "\n",
              "          const docLinkHtml = 'Like what you see? Visit the ' +\n",
              "            '<a target=\"_blank\" href=https://colab.research.google.com/notebooks/data_table.ipynb>data table notebook</a>'\n",
              "            + ' to learn more about interactive tables.';\n",
              "          element.innerHTML = '';\n",
              "          dataTable['output_type'] = 'display_data';\n",
              "          await google.colab.output.renderOutput(dataTable, element);\n",
              "          const docLink = document.createElement('div');\n",
              "          docLink.innerHTML = docLinkHtml;\n",
              "          element.appendChild(docLink);\n",
              "        }\n",
              "      </script>\n",
              "    </div>\n",
              "  </div>\n",
              "  "
            ],
            "text/plain": [
              "                                                 App  ...         Android Ver\n",
              "10831                       payermonstationnement.fr  ...          4.0 and up\n",
              "10832                                       FR Tides  ...          2.1 and up\n",
              "10833                                    Chemin (fr)  ...          2.2 and up\n",
              "10834                                  FR Calculator  ...          4.1 and up\n",
              "10835                                       FR Forms  ...          4.0 and up\n",
              "10836                               Sya9a Maroc - FR  ...          4.1 and up\n",
              "10837               Fr. Mike Schmitz Audio Teachings  ...          4.1 and up\n",
              "10838                         Parkinson Exercices FR  ...          2.2 and up\n",
              "10839                  The SCP Foundation DB fr nn5n  ...  Varies with device\n",
              "10840  iHoroscope - 2018 Daily Horoscope & Astrology  ...  Varies with device\n",
              "\n",
              "[10 rows x 13 columns]"
            ]
          },
          "metadata": {},
          "execution_count": 6
        }
      ]
    },
    {
      "cell_type": "markdown",
      "source": [
        "## Checking the number of all rows and columns"
      ],
      "metadata": {
        "id": "dANghLxLhRmG"
      }
    },
    {
      "cell_type": "code",
      "source": [
        "Play_store_data_df.shape"
      ],
      "metadata": {
        "colab": {
          "base_uri": "https://localhost:8080/"
        },
        "id": "lZaJ1xNyhS7V",
        "outputId": "d09fc6af-862a-44b4-e1e5-d1b9db70d5ad"
      },
      "execution_count": null,
      "outputs": [
        {
          "output_type": "execute_result",
          "data": {
            "text/plain": [
              "(10841, 13)"
            ]
          },
          "metadata": {},
          "execution_count": 7
        }
      ]
    },
    {
      "cell_type": "markdown",
      "source": [
        "## Checking the information of all the columns like Datatype, Null values etc."
      ],
      "metadata": {
        "id": "kkq1t90dhfrG"
      }
    },
    {
      "cell_type": "code",
      "source": [
        "Play_store_data_df.info()"
      ],
      "metadata": {
        "colab": {
          "base_uri": "https://localhost:8080/"
        },
        "id": "qA9RbyrLhiYk",
        "outputId": "3ac9b252-136e-4f6d-9856-7c9c3cdfadba"
      },
      "execution_count": null,
      "outputs": [
        {
          "output_type": "stream",
          "name": "stdout",
          "text": [
            "<class 'pandas.core.frame.DataFrame'>\n",
            "RangeIndex: 10841 entries, 0 to 10840\n",
            "Data columns (total 13 columns):\n",
            " #   Column          Non-Null Count  Dtype  \n",
            "---  ------          --------------  -----  \n",
            " 0   App             10841 non-null  object \n",
            " 1   Category        10841 non-null  object \n",
            " 2   Rating          9367 non-null   float64\n",
            " 3   Reviews         10841 non-null  object \n",
            " 4   Size            10841 non-null  object \n",
            " 5   Installs        10841 non-null  object \n",
            " 6   Type            10840 non-null  object \n",
            " 7   Price           10841 non-null  object \n",
            " 8   Content Rating  10840 non-null  object \n",
            " 9   Genres          10841 non-null  object \n",
            " 10  Last Updated    10841 non-null  object \n",
            " 11  Current Ver     10833 non-null  object \n",
            " 12  Android Ver     10838 non-null  object \n",
            "dtypes: float64(1), object(12)\n",
            "memory usage: 1.1+ MB\n"
          ]
        }
      ]
    },
    {
      "cell_type": "markdown",
      "source": [
        "# **Data Cleaning**"
      ],
      "metadata": {
        "id": "PtLplV0Sh00V"
      }
    },
    {
      "cell_type": "markdown",
      "source": [
        "**Overall statistics about the dataframe**"
      ],
      "metadata": {
        "id": "iqEvhjg3h_mQ"
      }
    },
    {
      "cell_type": "code",
      "source": [
        "Play_store_data_df.describe()"
      ],
      "metadata": {
        "colab": {
          "base_uri": "https://localhost:8080/",
          "height": 300
        },
        "id": "cDzGM1mhiBCF",
        "outputId": "4d318294-eca2-4ec1-83a7-2f82969c6abf"
      },
      "execution_count": null,
      "outputs": [
        {
          "output_type": "execute_result",
          "data": {
            "text/html": [
              "\n",
              "  <div id=\"df-8f53652f-80f7-4883-8832-471343c873f5\">\n",
              "    <div class=\"colab-df-container\">\n",
              "      <div>\n",
              "<style scoped>\n",
              "    .dataframe tbody tr th:only-of-type {\n",
              "        vertical-align: middle;\n",
              "    }\n",
              "\n",
              "    .dataframe tbody tr th {\n",
              "        vertical-align: top;\n",
              "    }\n",
              "\n",
              "    .dataframe thead th {\n",
              "        text-align: right;\n",
              "    }\n",
              "</style>\n",
              "<table border=\"1\" class=\"dataframe\">\n",
              "  <thead>\n",
              "    <tr style=\"text-align: right;\">\n",
              "      <th></th>\n",
              "      <th>Rating</th>\n",
              "    </tr>\n",
              "  </thead>\n",
              "  <tbody>\n",
              "    <tr>\n",
              "      <th>count</th>\n",
              "      <td>9367.000000</td>\n",
              "    </tr>\n",
              "    <tr>\n",
              "      <th>mean</th>\n",
              "      <td>4.193338</td>\n",
              "    </tr>\n",
              "    <tr>\n",
              "      <th>std</th>\n",
              "      <td>0.537431</td>\n",
              "    </tr>\n",
              "    <tr>\n",
              "      <th>min</th>\n",
              "      <td>1.000000</td>\n",
              "    </tr>\n",
              "    <tr>\n",
              "      <th>25%</th>\n",
              "      <td>4.000000</td>\n",
              "    </tr>\n",
              "    <tr>\n",
              "      <th>50%</th>\n",
              "      <td>4.300000</td>\n",
              "    </tr>\n",
              "    <tr>\n",
              "      <th>75%</th>\n",
              "      <td>4.500000</td>\n",
              "    </tr>\n",
              "    <tr>\n",
              "      <th>max</th>\n",
              "      <td>19.000000</td>\n",
              "    </tr>\n",
              "  </tbody>\n",
              "</table>\n",
              "</div>\n",
              "      <button class=\"colab-df-convert\" onclick=\"convertToInteractive('df-8f53652f-80f7-4883-8832-471343c873f5')\"\n",
              "              title=\"Convert this dataframe to an interactive table.\"\n",
              "              style=\"display:none;\">\n",
              "        \n",
              "  <svg xmlns=\"http://www.w3.org/2000/svg\" height=\"24px\"viewBox=\"0 0 24 24\"\n",
              "       width=\"24px\">\n",
              "    <path d=\"M0 0h24v24H0V0z\" fill=\"none\"/>\n",
              "    <path d=\"M18.56 5.44l.94 2.06.94-2.06 2.06-.94-2.06-.94-.94-2.06-.94 2.06-2.06.94zm-11 1L8.5 8.5l.94-2.06 2.06-.94-2.06-.94L8.5 2.5l-.94 2.06-2.06.94zm10 10l.94 2.06.94-2.06 2.06-.94-2.06-.94-.94-2.06-.94 2.06-2.06.94z\"/><path d=\"M17.41 7.96l-1.37-1.37c-.4-.4-.92-.59-1.43-.59-.52 0-1.04.2-1.43.59L10.3 9.45l-7.72 7.72c-.78.78-.78 2.05 0 2.83L4 21.41c.39.39.9.59 1.41.59.51 0 1.02-.2 1.41-.59l7.78-7.78 2.81-2.81c.8-.78.8-2.07 0-2.86zM5.41 20L4 18.59l7.72-7.72 1.47 1.35L5.41 20z\"/>\n",
              "  </svg>\n",
              "      </button>\n",
              "      \n",
              "  <style>\n",
              "    .colab-df-container {\n",
              "      display:flex;\n",
              "      flex-wrap:wrap;\n",
              "      gap: 12px;\n",
              "    }\n",
              "\n",
              "    .colab-df-convert {\n",
              "      background-color: #E8F0FE;\n",
              "      border: none;\n",
              "      border-radius: 50%;\n",
              "      cursor: pointer;\n",
              "      display: none;\n",
              "      fill: #1967D2;\n",
              "      height: 32px;\n",
              "      padding: 0 0 0 0;\n",
              "      width: 32px;\n",
              "    }\n",
              "\n",
              "    .colab-df-convert:hover {\n",
              "      background-color: #E2EBFA;\n",
              "      box-shadow: 0px 1px 2px rgba(60, 64, 67, 0.3), 0px 1px 3px 1px rgba(60, 64, 67, 0.15);\n",
              "      fill: #174EA6;\n",
              "    }\n",
              "\n",
              "    [theme=dark] .colab-df-convert {\n",
              "      background-color: #3B4455;\n",
              "      fill: #D2E3FC;\n",
              "    }\n",
              "\n",
              "    [theme=dark] .colab-df-convert:hover {\n",
              "      background-color: #434B5C;\n",
              "      box-shadow: 0px 1px 3px 1px rgba(0, 0, 0, 0.15);\n",
              "      filter: drop-shadow(0px 1px 2px rgba(0, 0, 0, 0.3));\n",
              "      fill: #FFFFFF;\n",
              "    }\n",
              "  </style>\n",
              "\n",
              "      <script>\n",
              "        const buttonEl =\n",
              "          document.querySelector('#df-8f53652f-80f7-4883-8832-471343c873f5 button.colab-df-convert');\n",
              "        buttonEl.style.display =\n",
              "          google.colab.kernel.accessAllowed ? 'block' : 'none';\n",
              "\n",
              "        async function convertToInteractive(key) {\n",
              "          const element = document.querySelector('#df-8f53652f-80f7-4883-8832-471343c873f5');\n",
              "          const dataTable =\n",
              "            await google.colab.kernel.invokeFunction('convertToInteractive',\n",
              "                                                     [key], {});\n",
              "          if (!dataTable) return;\n",
              "\n",
              "          const docLinkHtml = 'Like what you see? Visit the ' +\n",
              "            '<a target=\"_blank\" href=https://colab.research.google.com/notebooks/data_table.ipynb>data table notebook</a>'\n",
              "            + ' to learn more about interactive tables.';\n",
              "          element.innerHTML = '';\n",
              "          dataTable['output_type'] = 'display_data';\n",
              "          await google.colab.output.renderOutput(dataTable, element);\n",
              "          const docLink = document.createElement('div');\n",
              "          docLink.innerHTML = docLinkHtml;\n",
              "          element.appendChild(docLink);\n",
              "        }\n",
              "      </script>\n",
              "    </div>\n",
              "  </div>\n",
              "  "
            ],
            "text/plain": [
              "            Rating\n",
              "count  9367.000000\n",
              "mean      4.193338\n",
              "std       0.537431\n",
              "min       1.000000\n",
              "25%       4.000000\n",
              "50%       4.300000\n",
              "75%       4.500000\n",
              "max      19.000000"
            ]
          },
          "metadata": {},
          "execution_count": 9
        }
      ]
    },
    {
      "cell_type": "code",
      "source": [
        "Play_store_data_df.boxplot()"
      ],
      "metadata": {
        "colab": {
          "base_uri": "https://localhost:8080/",
          "height": 282
        },
        "id": "ULEsyGFSiImF",
        "outputId": "90943127-3fac-48c8-fd42-b59795d1b2c7"
      },
      "execution_count": null,
      "outputs": [
        {
          "output_type": "execute_result",
          "data": {
            "text/plain": [
              "<matplotlib.axes._subplots.AxesSubplot at 0x7f61e189ff50>"
            ]
          },
          "metadata": {},
          "execution_count": 10
        },
        {
          "output_type": "display_data",
          "data": {
            "image/png": "[encoded data removed]",
            "text/plain": [
              "<Figure size 432x288 with 1 Axes>"
            ]
          },
          "metadata": {
            "needs_background": "light"
          }
        }
      ]
    },
    {
      "cell_type": "markdown",
      "source": [
        "**From the above data and boxplot we are seeing the the maximum rating is 19. But we count the rating upto 5. So we have to check how many rating values grater than 5 . We have to drop those rows.**\n"
      ],
      "metadata": {
        "id": "YcDL9lHBiYsh"
      }
    },
    {
      "cell_type": "code",
      "source": [
        "Play_store_data_df[Play_store_data_df['Rating']>5]"
      ],
      "metadata": {
        "colab": {
          "base_uri": "https://localhost:8080/",
          "height": 159
        },
        "id": "95iluioTihv0",
        "outputId": "c39bece5-e7ad-4895-96de-21859316b7d9"
      },
      "execution_count": null,
      "outputs": [
        {
          "output_type": "execute_result",
          "data": {
            "text/html": [
              "\n",
              "  <div id=\"df-87472c5b-8350-4354-8077-61ad5f10c98b\">\n",
              "    <div class=\"colab-df-container\">\n",
              "      <div>\n",
              "<style scoped>\n",
              "    .dataframe tbody tr th:only-of-type {\n",
              "        vertical-align: middle;\n",
              "    }\n",
              "\n",
              "    .dataframe tbody tr th {\n",
              "        vertical-align: top;\n",
              "    }\n",
              "\n",
              "    .dataframe thead th {\n",
              "        text-align: right;\n",
              "    }\n",
              "</style>\n",
              "<table border=\"1\" class=\"dataframe\">\n",
              "  <thead>\n",
              "    <tr style=\"text-align: right;\">\n",
              "      <th></th>\n",
              "      <th>App</th>\n",
              "      <th>Category</th>\n",
              "      <th>Rating</th>\n",
              "      <th>Reviews</th>\n",
              "      <th>Size</th>\n",
              "      <th>Installs</th>\n",
              "      <th>Type</th>\n",
              "      <th>Price</th>\n",
              "      <th>Content Rating</th>\n",
              "      <th>Genres</th>\n",
              "      <th>Last Updated</th>\n",
              "      <th>Current Ver</th>\n",
              "      <th>Android Ver</th>\n",
              "    </tr>\n",
              "  </thead>\n",
              "  <tbody>\n",
              "    <tr>\n",
              "      <th>10472</th>\n",
              "      <td>Life Made WI-Fi Touchscreen Photo Frame</td>\n",
              "      <td>1.9</td>\n",
              "      <td>19.0</td>\n",
              "      <td>3.0M</td>\n",
              "      <td>1,000+</td>\n",
              "      <td>Free</td>\n",
              "      <td>0</td>\n",
              "      <td>Everyone</td>\n",
              "      <td>NaN</td>\n",
              "      <td>February 11, 2018</td>\n",
              "      <td>1.0.19</td>\n",
              "      <td>4.0 and up</td>\n",
              "      <td>NaN</td>\n",
              "    </tr>\n",
              "  </tbody>\n",
              "</table>\n",
              "</div>\n",
              "      <button class=\"colab-df-convert\" onclick=\"convertToInteractive('df-87472c5b-8350-4354-8077-61ad5f10c98b')\"\n",
              "              title=\"Convert this dataframe to an interactive table.\"\n",
              "              style=\"display:none;\">\n",
              "        \n",
              "  <svg xmlns=\"http://www.w3.org/2000/svg\" height=\"24px\"viewBox=\"0 0 24 24\"\n",
              "       width=\"24px\">\n",
              "    <path d=\"M0 0h24v24H0V0z\" fill=\"none\"/>\n",
              "    <path d=\"M18.56 5.44l.94 2.06.94-2.06 2.06-.94-2.06-.94-.94-2.06-.94 2.06-2.06.94zm-11 1L8.5 8.5l.94-2.06 2.06-.94-2.06-.94L8.5 2.5l-.94 2.06-2.06.94zm10 10l.94 2.06.94-2.06 2.06-.94-2.06-.94-.94-2.06-.94 2.06-2.06.94z\"/><path d=\"M17.41 7.96l-1.37-1.37c-.4-.4-.92-.59-1.43-.59-.52 0-1.04.2-1.43.59L10.3 9.45l-7.72 7.72c-.78.78-.78 2.05 0 2.83L4 21.41c.39.39.9.59 1.41.59.51 0 1.02-.2 1.41-.59l7.78-7.78 2.81-2.81c.8-.78.8-2.07 0-2.86zM5.41 20L4 18.59l7.72-7.72 1.47 1.35L5.41 20z\"/>\n",
              "  </svg>\n",
              "      </button>\n",
              "      \n",
              "  <style>\n",
              "    .colab-df-container {\n",
              "      display:flex;\n",
              "      flex-wrap:wrap;\n",
              "      gap: 12px;\n",
              "    }\n",
              "\n",
              "    .colab-df-convert {\n",
              "      background-color: #E8F0FE;\n",
              "      border: none;\n",
              "      border-radius: 50%;\n",
              "      cursor: pointer;\n",
              "      display: none;\n",
              "      fill: #1967D2;\n",
              "      height: 32px;\n",
              "      padding: 0 0 0 0;\n",
              "      width: 32px;\n",
              "    }\n",
              "\n",
              "    .colab-df-convert:hover {\n",
              "      background-color: #E2EBFA;\n",
              "      box-shadow: 0px 1px 2px rgba(60, 64, 67, 0.3), 0px 1px 3px 1px rgba(60, 64, 67, 0.15);\n",
              "      fill: #174EA6;\n",
              "    }\n",
              "\n",
              "    [theme=dark] .colab-df-convert {\n",
              "      background-color: #3B4455;\n",
              "      fill: #D2E3FC;\n",
              "    }\n",
              "\n",
              "    [theme=dark] .colab-df-convert:hover {\n",
              "      background-color: #434B5C;\n",
              "      box-shadow: 0px 1px 3px 1px rgba(0, 0, 0, 0.15);\n",
              "      filter: drop-shadow(0px 1px 2px rgba(0, 0, 0, 0.3));\n",
              "      fill: #FFFFFF;\n",
              "    }\n",
              "  </style>\n",
              "\n",
              "      <script>\n",
              "        const buttonEl =\n",
              "          document.querySelector('#df-87472c5b-8350-4354-8077-61ad5f10c98b button.colab-df-convert');\n",
              "        buttonEl.style.display =\n",
              "          google.colab.kernel.accessAllowed ? 'block' : 'none';\n",
              "\n",
              "        async function convertToInteractive(key) {\n",
              "          const element = document.querySelector('#df-87472c5b-8350-4354-8077-61ad5f10c98b');\n",
              "          const dataTable =\n",
              "            await google.colab.kernel.invokeFunction('convertToInteractive',\n",
              "                                                     [key], {});\n",
              "          if (!dataTable) return;\n",
              "\n",
              "          const docLinkHtml = 'Like what you see? Visit the ' +\n",
              "            '<a target=\"_blank\" href=https://colab.research.google.com/notebooks/data_table.ipynb>data table notebook</a>'\n",
              "            + ' to learn more about interactive tables.';\n",
              "          element.innerHTML = '';\n",
              "          dataTable['output_type'] = 'display_data';\n",
              "          await google.colab.output.renderOutput(dataTable, element);\n",
              "          const docLink = document.createElement('div');\n",
              "          docLink.innerHTML = docLinkHtml;\n",
              "          element.appendChild(docLink);\n",
              "        }\n",
              "      </script>\n",
              "    </div>\n",
              "  </div>\n",
              "  "
            ],
            "text/plain": [
              "                                           App Category  ...  Current Ver Android Ver\n",
              "10472  Life Made WI-Fi Touchscreen Photo Frame      1.9  ...   4.0 and up         NaN\n",
              "\n",
              "[1 rows x 13 columns]"
            ]
          },
          "metadata": {},
          "execution_count": 11
        }
      ]
    },
    {
      "cell_type": "markdown",
      "source": [
        "**Drop the index 10472 as this index has the 'Rating' more than 5**"
      ],
      "metadata": {
        "id": "hSu2369MjAKW"
      }
    },
    {
      "cell_type": "code",
      "source": [
        "Play_store_data_df.drop(Play_store_data_df.index[10472], inplace = True)"
      ],
      "metadata": {
        "id": "VxazFThojWWu"
      },
      "execution_count": null,
      "outputs": []
    },
    {
      "cell_type": "markdown",
      "source": [
        "**Now check the 10472 column is removed or not**"
      ],
      "metadata": {
        "id": "f6Ffmcpijc-s"
      }
    },
    {
      "cell_type": "code",
      "source": [
        "Play_store_data_df[10470:10475]"
      ],
      "metadata": {
        "colab": {
          "base_uri": "https://localhost:8080/",
          "height": 320
        },
        "id": "wvCSF3l6jiuU",
        "outputId": "bc64ecd9-a90e-4582-ddd8-ea69324123cc"
      },
      "execution_count": null,
      "outputs": [
        {
          "output_type": "execute_result",
          "data": {
            "text/html": [
              "\n",
              "  <div id=\"df-89f8b77c-43a1-4a6b-aaaa-5f7a72468ef9\">\n",
              "    <div class=\"colab-df-container\">\n",
              "      <div>\n",
              "<style scoped>\n",
              "    .dataframe tbody tr th:only-of-type {\n",
              "        vertical-align: middle;\n",
              "    }\n",
              "\n",
              "    .dataframe tbody tr th {\n",
              "        vertical-align: top;\n",
              "    }\n",
              "\n",
              "    .dataframe thead th {\n",
              "        text-align: right;\n",
              "    }\n",
              "</style>\n",
              "<table border=\"1\" class=\"dataframe\">\n",
              "  <thead>\n",
              "    <tr style=\"text-align: right;\">\n",
              "      <th></th>\n",
              "      <th>App</th>\n",
              "      <th>Category</th>\n",
              "      <th>Rating</th>\n",
              "      <th>Reviews</th>\n",
              "      <th>Size</th>\n",
              "      <th>Installs</th>\n",
              "      <th>Type</th>\n",
              "      <th>Price</th>\n",
              "      <th>Content Rating</th>\n",
              "      <th>Genres</th>\n",
              "      <th>Last Updated</th>\n",
              "      <th>Current Ver</th>\n",
              "      <th>Android Ver</th>\n",
              "    </tr>\n",
              "  </thead>\n",
              "  <tbody>\n",
              "    <tr>\n",
              "      <th>10470</th>\n",
              "      <td>Jazz Wi-Fi</td>\n",
              "      <td>COMMUNICATION</td>\n",
              "      <td>3.4</td>\n",
              "      <td>49</td>\n",
              "      <td>4.0M</td>\n",
              "      <td>10,000+</td>\n",
              "      <td>Free</td>\n",
              "      <td>0</td>\n",
              "      <td>Everyone</td>\n",
              "      <td>Communication</td>\n",
              "      <td>February 10, 2017</td>\n",
              "      <td>0.1</td>\n",
              "      <td>2.3 and up</td>\n",
              "    </tr>\n",
              "    <tr>\n",
              "      <th>10471</th>\n",
              "      <td>Xposed Wi-Fi-Pwd</td>\n",
              "      <td>PERSONALIZATION</td>\n",
              "      <td>3.5</td>\n",
              "      <td>1042</td>\n",
              "      <td>404k</td>\n",
              "      <td>100,000+</td>\n",
              "      <td>Free</td>\n",
              "      <td>0</td>\n",
              "      <td>Everyone</td>\n",
              "      <td>Personalization</td>\n",
              "      <td>August 5, 2014</td>\n",
              "      <td>3.0.0</td>\n",
              "      <td>4.0.3 and up</td>\n",
              "    </tr>\n",
              "    <tr>\n",
              "      <th>10473</th>\n",
              "      <td>osmino Wi-Fi: free WiFi</td>\n",
              "      <td>TOOLS</td>\n",
              "      <td>4.2</td>\n",
              "      <td>134203</td>\n",
              "      <td>4.1M</td>\n",
              "      <td>10,000,000+</td>\n",
              "      <td>Free</td>\n",
              "      <td>0</td>\n",
              "      <td>Everyone</td>\n",
              "      <td>Tools</td>\n",
              "      <td>August 7, 2018</td>\n",
              "      <td>6.06.14</td>\n",
              "      <td>4.4 and up</td>\n",
              "    </tr>\n",
              "    <tr>\n",
              "      <th>10474</th>\n",
              "      <td>Sat-Fi Voice</td>\n",
              "      <td>COMMUNICATION</td>\n",
              "      <td>3.4</td>\n",
              "      <td>37</td>\n",
              "      <td>14M</td>\n",
              "      <td>1,000+</td>\n",
              "      <td>Free</td>\n",
              "      <td>0</td>\n",
              "      <td>Everyone</td>\n",
              "      <td>Communication</td>\n",
              "      <td>November 21, 2014</td>\n",
              "      <td>2.2.1.5</td>\n",
              "      <td>2.2 and up</td>\n",
              "    </tr>\n",
              "    <tr>\n",
              "      <th>10475</th>\n",
              "      <td>Wi-Fi Visualizer</td>\n",
              "      <td>TOOLS</td>\n",
              "      <td>3.9</td>\n",
              "      <td>132</td>\n",
              "      <td>2.6M</td>\n",
              "      <td>50,000+</td>\n",
              "      <td>Free</td>\n",
              "      <td>0</td>\n",
              "      <td>Everyone</td>\n",
              "      <td>Tools</td>\n",
              "      <td>May 17, 2017</td>\n",
              "      <td>0.0.9</td>\n",
              "      <td>2.3 and up</td>\n",
              "    </tr>\n",
              "  </tbody>\n",
              "</table>\n",
              "</div>\n",
              "      <button class=\"colab-df-convert\" onclick=\"convertToInteractive('df-89f8b77c-43a1-4a6b-aaaa-5f7a72468ef9')\"\n",
              "              title=\"Convert this dataframe to an interactive table.\"\n",
              "              style=\"display:none;\">\n",
              "        \n",
              "  <svg xmlns=\"http://www.w3.org/2000/svg\" height=\"24px\"viewBox=\"0 0 24 24\"\n",
              "       width=\"24px\">\n",
              "    <path d=\"M0 0h24v24H0V0z\" fill=\"none\"/>\n",
              "    <path d=\"M18.56 5.44l.94 2.06.94-2.06 2.06-.94-2.06-.94-.94-2.06-.94 2.06-2.06.94zm-11 1L8.5 8.5l.94-2.06 2.06-.94-2.06-.94L8.5 2.5l-.94 2.06-2.06.94zm10 10l.94 2.06.94-2.06 2.06-.94-2.06-.94-.94-2.06-.94 2.06-2.06.94z\"/><path d=\"M17.41 7.96l-1.37-1.37c-.4-.4-.92-.59-1.43-.59-.52 0-1.04.2-1.43.59L10.3 9.45l-7.72 7.72c-.78.78-.78 2.05 0 2.83L4 21.41c.39.39.9.59 1.41.59.51 0 1.02-.2 1.41-.59l7.78-7.78 2.81-2.81c.8-.78.8-2.07 0-2.86zM5.41 20L4 18.59l7.72-7.72 1.47 1.35L5.41 20z\"/>\n",
              "  </svg>\n",
              "      </button>\n",
              "      \n",
              "  <style>\n",
              "    .colab-df-container {\n",
              "      display:flex;\n",
              "      flex-wrap:wrap;\n",
              "      gap: 12px;\n",
              "    }\n",
              "\n",
              "    .colab-df-convert {\n",
              "      background-color: #E8F0FE;\n",
              "      border: none;\n",
              "      border-radius: 50%;\n",
              "      cursor: pointer;\n",
              "      display: none;\n",
              "      fill: #1967D2;\n",
              "      height: 32px;\n",
              "      padding: 0 0 0 0;\n",
              "      width: 32px;\n",
              "    }\n",
              "\n",
              "    .colab-df-convert:hover {\n",
              "      background-color: #E2EBFA;\n",
              "      box-shadow: 0px 1px 2px rgba(60, 64, 67, 0.3), 0px 1px 3px 1px rgba(60, 64, 67, 0.15);\n",
              "      fill: #174EA6;\n",
              "    }\n",
              "\n",
              "    [theme=dark] .colab-df-convert {\n",
              "      background-color: #3B4455;\n",
              "      fill: #D2E3FC;\n",
              "    }\n",
              "\n",
              "    [theme=dark] .colab-df-convert:hover {\n",
              "      background-color: #434B5C;\n",
              "      box-shadow: 0px 1px 3px 1px rgba(0, 0, 0, 0.15);\n",
              "      filter: drop-shadow(0px 1px 2px rgba(0, 0, 0, 0.3));\n",
              "      fill: #FFFFFF;\n",
              "    }\n",
              "  </style>\n",
              "\n",
              "      <script>\n",
              "        const buttonEl =\n",
              "          document.querySelector('#df-89f8b77c-43a1-4a6b-aaaa-5f7a72468ef9 button.colab-df-convert');\n",
              "        buttonEl.style.display =\n",
              "          google.colab.kernel.accessAllowed ? 'block' : 'none';\n",
              "\n",
              "        async function convertToInteractive(key) {\n",
              "          const element = document.querySelector('#df-89f8b77c-43a1-4a6b-aaaa-5f7a72468ef9');\n",
              "          const dataTable =\n",
              "            await google.colab.kernel.invokeFunction('convertToInteractive',\n",
              "                                                     [key], {});\n",
              "          if (!dataTable) return;\n",
              "\n",
              "          const docLinkHtml = 'Like what you see? Visit the ' +\n",
              "            '<a target=\"_blank\" href=https://colab.research.google.com/notebooks/data_table.ipynb>data table notebook</a>'\n",
              "            + ' to learn more about interactive tables.';\n",
              "          element.innerHTML = '';\n",
              "          dataTable['output_type'] = 'display_data';\n",
              "          await google.colab.output.renderOutput(dataTable, element);\n",
              "          const docLink = document.createElement('div');\n",
              "          docLink.innerHTML = docLinkHtml;\n",
              "          element.appendChild(docLink);\n",
              "        }\n",
              "      </script>\n",
              "    </div>\n",
              "  </div>\n",
              "  "
            ],
            "text/plain": [
              "                           App         Category  ...  Current Ver   Android Ver\n",
              "10470               Jazz Wi-Fi    COMMUNICATION  ...          0.1    2.3 and up\n",
              "10471         Xposed Wi-Fi-Pwd  PERSONALIZATION  ...        3.0.0  4.0.3 and up\n",
              "10473  osmino Wi-Fi: free WiFi            TOOLS  ...      6.06.14    4.4 and up\n",
              "10474             Sat-Fi Voice    COMMUNICATION  ...      2.2.1.5    2.2 and up\n",
              "10475         Wi-Fi Visualizer            TOOLS  ...        0.0.9    2.3 and up\n",
              "\n",
              "[5 rows x 13 columns]"
            ]
          },
          "metadata": {},
          "execution_count": 13
        }
      ]
    },
    {
      "cell_type": "markdown",
      "source": [
        "**So now we can see that in the above table row of index '10472' is deleted.**"
      ],
      "metadata": {
        "id": "WSJlfs_uj3r9"
      }
    },
    {
      "cell_type": "code",
      "source": [
        "Play_store_data_df.describe()"
      ],
      "metadata": {
        "colab": {
          "base_uri": "https://localhost:8080/",
          "height": 300
        },
        "id": "RkjO5rLxj5f7",
        "outputId": "193a738f-b167-402b-87d0-00cd403eb3e3"
      },
      "execution_count": null,
      "outputs": [
        {
          "output_type": "execute_result",
          "data": {
            "text/html": [
              "\n",
              "  <div id=\"df-42cd0d07-10ea-4d24-ac56-b385bd91dfcd\">\n",
              "    <div class=\"colab-df-container\">\n",
              "      <div>\n",
              "<style scoped>\n",
              "    .dataframe tbody tr th:only-of-type {\n",
              "        vertical-align: middle;\n",
              "    }\n",
              "\n",
              "    .dataframe tbody tr th {\n",
              "        vertical-align: top;\n",
              "    }\n",
              "\n",
              "    .dataframe thead th {\n",
              "        text-align: right;\n",
              "    }\n",
              "</style>\n",
              "<table border=\"1\" class=\"dataframe\">\n",
              "  <thead>\n",
              "    <tr style=\"text-align: right;\">\n",
              "      <th></th>\n",
              "      <th>Rating</th>\n",
              "    </tr>\n",
              "  </thead>\n",
              "  <tbody>\n",
              "    <tr>\n",
              "      <th>count</th>\n",
              "      <td>9366.000000</td>\n",
              "    </tr>\n",
              "    <tr>\n",
              "      <th>mean</th>\n",
              "      <td>4.191757</td>\n",
              "    </tr>\n",
              "    <tr>\n",
              "      <th>std</th>\n",
              "      <td>0.515219</td>\n",
              "    </tr>\n",
              "    <tr>\n",
              "      <th>min</th>\n",
              "      <td>1.000000</td>\n",
              "    </tr>\n",
              "    <tr>\n",
              "      <th>25%</th>\n",
              "      <td>4.000000</td>\n",
              "    </tr>\n",
              "    <tr>\n",
              "      <th>50%</th>\n",
              "      <td>4.300000</td>\n",
              "    </tr>\n",
              "    <tr>\n",
              "      <th>75%</th>\n",
              "      <td>4.500000</td>\n",
              "    </tr>\n",
              "    <tr>\n",
              "      <th>max</th>\n",
              "      <td>5.000000</td>\n",
              "    </tr>\n",
              "  </tbody>\n",
              "</table>\n",
              "</div>\n",
              "      <button class=\"colab-df-convert\" onclick=\"convertToInteractive('df-42cd0d07-10ea-4d24-ac56-b385bd91dfcd')\"\n",
              "              title=\"Convert this dataframe to an interactive table.\"\n",
              "              style=\"display:none;\">\n",
              "        \n",
              "  <svg xmlns=\"http://www.w3.org/2000/svg\" height=\"24px\"viewBox=\"0 0 24 24\"\n",
              "       width=\"24px\">\n",
              "    <path d=\"M0 0h24v24H0V0z\" fill=\"none\"/>\n",
              "    <path d=\"M18.56 5.44l.94 2.06.94-2.06 2.06-.94-2.06-.94-.94-2.06-.94 2.06-2.06.94zm-11 1L8.5 8.5l.94-2.06 2.06-.94-2.06-.94L8.5 2.5l-.94 2.06-2.06.94zm10 10l.94 2.06.94-2.06 2.06-.94-2.06-.94-.94-2.06-.94 2.06-2.06.94z\"/><path d=\"M17.41 7.96l-1.37-1.37c-.4-.4-.92-.59-1.43-.59-.52 0-1.04.2-1.43.59L10.3 9.45l-7.72 7.72c-.78.78-.78 2.05 0 2.83L4 21.41c.39.39.9.59 1.41.59.51 0 1.02-.2 1.41-.59l7.78-7.78 2.81-2.81c.8-.78.8-2.07 0-2.86zM5.41 20L4 18.59l7.72-7.72 1.47 1.35L5.41 20z\"/>\n",
              "  </svg>\n",
              "      </button>\n",
              "      \n",
              "  <style>\n",
              "    .colab-df-container {\n",
              "      display:flex;\n",
              "      flex-wrap:wrap;\n",
              "      gap: 12px;\n",
              "    }\n",
              "\n",
              "    .colab-df-convert {\n",
              "      background-color: #E8F0FE;\n",
              "      border: none;\n",
              "      border-radius: 50%;\n",
              "      cursor: pointer;\n",
              "      display: none;\n",
              "      fill: #1967D2;\n",
              "      height: 32px;\n",
              "      padding: 0 0 0 0;\n",
              "      width: 32px;\n",
              "    }\n",
              "\n",
              "    .colab-df-convert:hover {\n",
              "      background-color: #E2EBFA;\n",
              "      box-shadow: 0px 1px 2px rgba(60, 64, 67, 0.3), 0px 1px 3px 1px rgba(60, 64, 67, 0.15);\n",
              "      fill: #174EA6;\n",
              "    }\n",
              "\n",
              "    [theme=dark] .colab-df-convert {\n",
              "      background-color: #3B4455;\n",
              "      fill: #D2E3FC;\n",
              "    }\n",
              "\n",
              "    [theme=dark] .colab-df-convert:hover {\n",
              "      background-color: #434B5C;\n",
              "      box-shadow: 0px 1px 3px 1px rgba(0, 0, 0, 0.15);\n",
              "      filter: drop-shadow(0px 1px 2px rgba(0, 0, 0, 0.3));\n",
              "      fill: #FFFFFF;\n",
              "    }\n",
              "  </style>\n",
              "\n",
              "      <script>\n",
              "        const buttonEl =\n",
              "          document.querySelector('#df-42cd0d07-10ea-4d24-ac56-b385bd91dfcd button.colab-df-convert');\n",
              "        buttonEl.style.display =\n",
              "          google.colab.kernel.accessAllowed ? 'block' : 'none';\n",
              "\n",
              "        async function convertToInteractive(key) {\n",
              "          const element = document.querySelector('#df-42cd0d07-10ea-4d24-ac56-b385bd91dfcd');\n",
              "          const dataTable =\n",
              "            await google.colab.kernel.invokeFunction('convertToInteractive',\n",
              "                                                     [key], {});\n",
              "          if (!dataTable) return;\n",
              "\n",
              "          const docLinkHtml = 'Like what you see? Visit the ' +\n",
              "            '<a target=\"_blank\" href=https://colab.research.google.com/notebooks/data_table.ipynb>data table notebook</a>'\n",
              "            + ' to learn more about interactive tables.';\n",
              "          element.innerHTML = '';\n",
              "          dataTable['output_type'] = 'display_data';\n",
              "          await google.colab.output.renderOutput(dataTable, element);\n",
              "          const docLink = document.createElement('div');\n",
              "          docLink.innerHTML = docLinkHtml;\n",
              "          element.appendChild(docLink);\n",
              "        }\n",
              "      </script>\n",
              "    </div>\n",
              "  </div>\n",
              "  "
            ],
            "text/plain": [
              "            Rating\n",
              "count  9366.000000\n",
              "mean      4.191757\n",
              "std       0.515219\n",
              "min       1.000000\n",
              "25%       4.000000\n",
              "50%       4.300000\n",
              "75%       4.500000\n",
              "max       5.000000"
            ]
          },
          "metadata": {},
          "execution_count": 14
        }
      ]
    },
    {
      "cell_type": "code",
      "source": [
        "Play_store_data_df.boxplot()"
      ],
      "metadata": {
        "colab": {
          "base_uri": "https://localhost:8080/",
          "height": 282
        },
        "id": "aLFPsG0wj_12",
        "outputId": "28435e14-0230-41c2-f9a3-921fa64a221c"
      },
      "execution_count": null,
      "outputs": [
        {
          "output_type": "execute_result",
          "data": {
            "text/plain": [
              "<matplotlib.axes._subplots.AxesSubplot at 0x7f61e19211d0>"
            ]
          },
          "metadata": {},
          "execution_count": 15
        },
        {
          "output_type": "display_data",
          "data": {
            "image/png": "[encoded data removed]",
            "text/plain": [
              "<Figure size 432x288 with 1 Axes>"
            ]
          },
          "metadata": {
            "needs_background": "light"
          }
        }
      ]
    },
    {
      "cell_type": "markdown",
      "source": [
        "**So now the maximum rating value is '5'.**"
      ],
      "metadata": {
        "id": "Utq_b6nxkMw-"
      }
    },
    {
      "cell_type": "markdown",
      "source": [
        "### Check the count of all the null values of all column."
      ],
      "metadata": {
        "id": "hOJQu1CDkLqJ"
      }
    },
    {
      "cell_type": "code",
      "source": [
        "Play_store_data_df.isnull().sum()"
      ],
      "metadata": {
        "colab": {
          "base_uri": "https://localhost:8080/"
        },
        "id": "nzNo_h81khcM",
        "outputId": "016c7650-fa73-41b6-cb39-f48305138abb"
      },
      "execution_count": null,
      "outputs": [
        {
          "output_type": "execute_result",
          "data": {
            "text/plain": [
              "App                  0\n",
              "Category             0\n",
              "Rating            1474\n",
              "Reviews              0\n",
              "Size                 0\n",
              "Installs             0\n",
              "Type                 1\n",
              "Price                0\n",
              "Content Rating       0\n",
              "Genres               0\n",
              "Last Updated         0\n",
              "Current Ver          8\n",
              "Android Ver          2\n",
              "dtype: int64"
            ]
          },
          "metadata": {},
          "execution_count": 16
        }
      ]
    },
    {
      "cell_type": "markdown",
      "source": [
        "**From the above table we are observing that the Rating column has more number of null values. As we now that by the use of this Rating column we will get some conclusions. so we have to remove the null values.**\n",
        "**We will replace the null values with the zero value.**"
      ],
      "metadata": {
        "id": "vmDenonck5Ld"
      }
    },
    {
      "cell_type": "markdown",
      "source": [
        "**Updating all the Null values with the zero values and getting the updated 'Rating' column.**"
      ],
      "metadata": {
        "id": "uhgZSuWjk7RU"
      }
    },
    {
      "cell_type": "code",
      "source": [
        "Play_store_data_df['Rating'] = Play_store_data_df['Rating'].fillna(0)"
      ],
      "metadata": {
        "id": "K-_JvTGLlDKj"
      },
      "execution_count": null,
      "outputs": []
    },
    {
      "cell_type": "markdown",
      "source": [
        "**Now we will get the 'Rating' column with zero null values.**"
      ],
      "metadata": {
        "id": "LTSxRh8AlVQt"
      }
    },
    {
      "cell_type": "code",
      "source": [
        "Play_store_data_df.isnull().sum()"
      ],
      "metadata": {
        "colab": {
          "base_uri": "https://localhost:8080/"
        },
        "id": "dAZMvwi8leyi",
        "outputId": "e4ef2e50-d67f-49ef-d204-e50b9b8fafca"
      },
      "execution_count": null,
      "outputs": [
        {
          "output_type": "execute_result",
          "data": {
            "text/plain": [
              "App               0\n",
              "Category          0\n",
              "Rating            0\n",
              "Reviews           0\n",
              "Size              0\n",
              "Installs          0\n",
              "Type              1\n",
              "Price             0\n",
              "Content Rating    0\n",
              "Genres            0\n",
              "Last Updated      0\n",
              "Current Ver       8\n",
              "Android Ver       2\n",
              "dtype: int64"
            ]
          },
          "metadata": {},
          "execution_count": 18
        }
      ]
    },
    {
      "cell_type": "code",
      "source": [
        "Play_store_data_df.info()"
      ],
      "metadata": {
        "colab": {
          "base_uri": "https://localhost:8080/"
        },
        "id": "hllU8v0UlfmV",
        "outputId": "8f2586f0-cfa4-4b94-fe31-cf1fa2bb0c24"
      },
      "execution_count": null,
      "outputs": [
        {
          "output_type": "stream",
          "name": "stdout",
          "text": [
            "<class 'pandas.core.frame.DataFrame'>\n",
            "Int64Index: 10840 entries, 0 to 10840\n",
            "Data columns (total 13 columns):\n",
            " #   Column          Non-Null Count  Dtype  \n",
            "---  ------          --------------  -----  \n",
            " 0   App             10840 non-null  object \n",
            " 1   Category        10840 non-null  object \n",
            " 2   Rating          10840 non-null  float64\n",
            " 3   Reviews         10840 non-null  object \n",
            " 4   Size            10840 non-null  object \n",
            " 5   Installs        10840 non-null  object \n",
            " 6   Type            10839 non-null  object \n",
            " 7   Price           10840 non-null  object \n",
            " 8   Content Rating  10840 non-null  object \n",
            " 9   Genres          10840 non-null  object \n",
            " 10  Last Updated    10840 non-null  object \n",
            " 11  Current Ver     10832 non-null  object \n",
            " 12  Android Ver     10838 non-null  object \n",
            "dtypes: float64(1), object(12)\n",
            "memory usage: 1.2+ MB\n"
          ]
        }
      ]
    },
    {
      "cell_type": "markdown",
      "source": [
        "**So from the above data we can see that now 'Rating' column has zero null values. Now we have to remove the null values from 'Type' , 'Current Ver' , 'Android Ver '.**"
      ],
      "metadata": {
        "id": "2TXM9wxJl7AE"
      }
    },
    {
      "cell_type": "markdown",
      "source": [
        "**We will replace the null values with the Mode values.**"
      ],
      "metadata": {
        "id": "mLrF-IvPmBL0"
      }
    },
    {
      "cell_type": "code",
      "source": [
        "# printing mode values of all the columns\n",
        "\n",
        "print(Play_store_data_df['Type'].mode())\n",
        "\n",
        "print(Play_store_data_df['Current Ver'].mode())\n",
        "\n",
        "print(Play_store_data_df['Android Ver'].mode())"
      ],
      "metadata": {
        "colab": {
          "base_uri": "https://localhost:8080/"
        },
        "id": "elMKrb7tmCHV",
        "outputId": "a3a5a96f-c311-44e0-ea0a-aff16dbefceb"
      },
      "execution_count": null,
      "outputs": [
        {
          "output_type": "stream",
          "name": "stdout",
          "text": [
            "0    Free\n",
            "dtype: object\n",
            "0    Varies with device\n",
            "dtype: object\n",
            "0    4.1 and up\n",
            "dtype: object\n"
          ]
        }
      ]
    },
    {
      "cell_type": "markdown",
      "source": [
        "**Now we will replace all null values with mode values.**"
      ],
      "metadata": {
        "id": "tyxkxbKAmXBU"
      }
    },
    {
      "cell_type": "code",
      "source": [
        "Play_store_data_df['Type'].fillna(str(Play_store_data_df['Type'].mode().values[0]), inplace=True)\n",
        "\n",
        "Play_store_data_df['Current Ver'].fillna(str(Play_store_data_df['Type'].mode().values[0]), inplace=True)\n",
        "\n",
        "Play_store_data_df['Android Ver'].fillna(str(Play_store_data_df['Type'].mode().values[0]), inplace=True)"
      ],
      "metadata": {
        "id": "G3jEjcblmezo"
      },
      "execution_count": null,
      "outputs": []
    },
    {
      "cell_type": "markdown",
      "source": [
        "**All the null values of the columns are removed . Now we will check again for the confirmation.**"
      ],
      "metadata": {
        "id": "Oef9v4PZmpaT"
      }
    },
    {
      "cell_type": "code",
      "source": [
        "Play_store_data_df.isnull().sum()"
      ],
      "metadata": {
        "colab": {
          "base_uri": "https://localhost:8080/"
        },
        "id": "ovSJbX5UmqSU",
        "outputId": "faec45b2-e6c7-45b1-f581-c1ec26741dca"
      },
      "execution_count": null,
      "outputs": [
        {
          "output_type": "execute_result",
          "data": {
            "text/plain": [
              "App               0\n",
              "Category          0\n",
              "Rating            0\n",
              "Reviews           0\n",
              "Size              0\n",
              "Installs          0\n",
              "Type              0\n",
              "Price             0\n",
              "Content Rating    0\n",
              "Genres            0\n",
              "Last Updated      0\n",
              "Current Ver       0\n",
              "Android Ver       0\n",
              "dtype: int64"
            ]
          },
          "metadata": {},
          "execution_count": 22
        }
      ]
    },
    {
      "cell_type": "markdown",
      "source": [
        "**So now all column has Zero null values.**"
      ],
      "metadata": {
        "id": "owTcdLxZm5u9"
      }
    },
    {
      "cell_type": "markdown",
      "source": [
        "# **Now we will remove all the special symbols and convert the type of the column values.**"
      ],
      "metadata": {
        "id": "plK_HhOBm_8s"
      }
    },
    {
      "cell_type": "code",
      "source": [
        "Play_store_data_df['Price'].value_counts()"
      ],
      "metadata": {
        "colab": {
          "base_uri": "https://localhost:8080/"
        },
        "id": "pHIEKkH4nBQG",
        "outputId": "623049f8-3f41-4ffe-f415-6f5920a759e5"
      },
      "execution_count": null,
      "outputs": [
        {
          "output_type": "execute_result",
          "data": {
            "text/plain": [
              "0         10040\n",
              "$0.99       148\n",
              "$2.99       129\n",
              "$1.99        73\n",
              "$4.99        72\n",
              "          ...  \n",
              "$19.90        1\n",
              "$1.75         1\n",
              "$14.00        1\n",
              "$4.85         1\n",
              "$1.04         1\n",
              "Name: Price, Length: 92, dtype: int64"
            ]
          },
          "metadata": {},
          "execution_count": 23
        }
      ]
    },
    {
      "cell_type": "code",
      "source": [
        "Play_store_data_df['Installs'].value_counts()"
      ],
      "metadata": {
        "colab": {
          "base_uri": "https://localhost:8080/"
        },
        "id": "fuagu4YMnTnS",
        "outputId": "7781f818-044e-4ab5-ba4d-b70ba871a734"
      },
      "execution_count": null,
      "outputs": [
        {
          "output_type": "execute_result",
          "data": {
            "text/plain": [
              "1,000,000+        1579\n",
              "10,000,000+       1252\n",
              "100,000+          1169\n",
              "10,000+           1054\n",
              "1,000+             907\n",
              "5,000,000+         752\n",
              "100+               719\n",
              "500,000+           539\n",
              "50,000+            479\n",
              "5,000+             477\n",
              "100,000,000+       409\n",
              "10+                386\n",
              "500+               330\n",
              "50,000,000+        289\n",
              "50+                205\n",
              "5+                  82\n",
              "500,000,000+        72\n",
              "1+                  67\n",
              "1,000,000,000+      58\n",
              "0+                  14\n",
              "0                    1\n",
              "Name: Installs, dtype: int64"
            ]
          },
          "metadata": {},
          "execution_count": 24
        }
      ]
    },
    {
      "cell_type": "markdown",
      "source": [
        "**From the above two tables we are observing that the 'Install' and 'Price' column has some special symbols. so we will remove those symbols and also we will change the type.**"
      ],
      "metadata": {
        "id": "MWfMiKydnkI8"
      }
    },
    {
      "cell_type": "markdown",
      "source": [
        "**Changing the datatype of 'Installs' column data to numeric and removing the '+' sign**"
      ],
      "metadata": {
        "id": "4eIluBUUqRQE"
      }
    },
    {
      "cell_type": "code",
      "source": [
        "Play_store_data_df['Installs'] = Play_store_data_df['Installs'].map(lambda x: x.rstrip('+'))\n",
        "Play_store_data_df['Installs'] = pd.to_numeric(Play_store_data_df['Installs'].str.replace(',',''))"
      ],
      "metadata": {
        "id": "Mt6K3PH_qhD0"
      },
      "execution_count": null,
      "outputs": []
    },
    {
      "cell_type": "markdown",
      "source": [
        "**Changing the datatype of 'Price' column data to numeric and removing the '$' sign**"
      ],
      "metadata": {
        "id": "kPRc3yXXqoKL"
      }
    },
    {
      "cell_type": "code",
      "source": [
        "Play_store_data_df['Price'] = Play_store_data_df['Price'].apply(lambda x: str(x).replace('$','') if '$' in str(x) else str(x))\n",
        "Play_store_data_df['Price'] = Play_store_data_df['Price'].apply(lambda x: float(x))"
      ],
      "metadata": {
        "id": "syEN8wBBqu1c"
      },
      "execution_count": null,
      "outputs": []
    },
    {
      "cell_type": "markdown",
      "source": [
        "**Changing the datatype of 'Reviews' column data to numeric**"
      ],
      "metadata": {
        "id": "JosQHtZ8q1zg"
      }
    },
    {
      "cell_type": "code",
      "source": [
        "Play_store_data_df['Reviews']=pd.to_numeric(Play_store_data_df['Reviews'], errors='coerce')"
      ],
      "metadata": {
        "id": "HBG9wmRiq0_K"
      },
      "execution_count": null,
      "outputs": []
    },
    {
      "cell_type": "code",
      "source": [
        "Play_store_data_df.info()"
      ],
      "metadata": {
        "colab": {
          "base_uri": "https://localhost:8080/"
        },
        "id": "NJxkLbEerBpc",
        "outputId": "0ca27789-d76f-4926-dce3-3a50cc1ac498"
      },
      "execution_count": null,
      "outputs": [
        {
          "output_type": "stream",
          "name": "stdout",
          "text": [
            "<class 'pandas.core.frame.DataFrame'>\n",
            "Int64Index: 10840 entries, 0 to 10840\n",
            "Data columns (total 13 columns):\n",
            " #   Column          Non-Null Count  Dtype  \n",
            "---  ------          --------------  -----  \n",
            " 0   App             10840 non-null  object \n",
            " 1   Category        10840 non-null  object \n",
            " 2   Rating          10840 non-null  float64\n",
            " 3   Reviews         10840 non-null  int64  \n",
            " 4   Size            10840 non-null  object \n",
            " 5   Installs        10840 non-null  int64  \n",
            " 6   Type            10840 non-null  object \n",
            " 7   Price           10840 non-null  float64\n",
            " 8   Content Rating  10840 non-null  object \n",
            " 9   Genres          10840 non-null  object \n",
            " 10  Last Updated    10840 non-null  object \n",
            " 11  Current Ver     10840 non-null  object \n",
            " 12  Android Ver     10840 non-null  object \n",
            "dtypes: float64(2), int64(2), object(9)\n",
            "memory usage: 1.2+ MB\n"
          ]
        }
      ]
    },
    {
      "cell_type": "code",
      "source": [
        "Play_store_data_df[Play_store_data_df['Size'].isnull()]"
      ],
      "metadata": {
        "colab": {
          "base_uri": "https://localhost:8080/",
          "height": 49
        },
        "id": "mGstYZDYrDDq",
        "outputId": "90e5fded-fc40-4604-b033-66e6d3a0bad1"
      },
      "execution_count": null,
      "outputs": [
        {
          "output_type": "execute_result",
          "data": {
            "text/html": [
              "\n",
              "  <div id=\"df-9df658de-a60a-4953-8d1e-5c8ff6d91c67\">\n",
              "    <div class=\"colab-df-container\">\n",
              "      <div>\n",
              "<style scoped>\n",
              "    .dataframe tbody tr th:only-of-type {\n",
              "        vertical-align: middle;\n",
              "    }\n",
              "\n",
              "    .dataframe tbody tr th {\n",
              "        vertical-align: top;\n",
              "    }\n",
              "\n",
              "    .dataframe thead th {\n",
              "        text-align: right;\n",
              "    }\n",
              "</style>\n",
              "<table border=\"1\" class=\"dataframe\">\n",
              "  <thead>\n",
              "    <tr style=\"text-align: right;\">\n",
              "      <th></th>\n",
              "      <th>App</th>\n",
              "      <th>Category</th>\n",
              "      <th>Rating</th>\n",
              "      <th>Reviews</th>\n",
              "      <th>Size</th>\n",
              "      <th>Installs</th>\n",
              "      <th>Type</th>\n",
              "      <th>Price</th>\n",
              "      <th>Content Rating</th>\n",
              "      <th>Genres</th>\n",
              "      <th>Last Updated</th>\n",
              "      <th>Current Ver</th>\n",
              "      <th>Android Ver</th>\n",
              "    </tr>\n",
              "  </thead>\n",
              "  <tbody>\n",
              "  </tbody>\n",
              "</table>\n",
              "</div>\n",
              "      <button class=\"colab-df-convert\" onclick=\"convertToInteractive('df-9df658de-a60a-4953-8d1e-5c8ff6d91c67')\"\n",
              "              title=\"Convert this dataframe to an interactive table.\"\n",
              "              style=\"display:none;\">\n",
              "        \n",
              "  <svg xmlns=\"http://www.w3.org/2000/svg\" height=\"24px\"viewBox=\"0 0 24 24\"\n",
              "       width=\"24px\">\n",
              "    <path d=\"M0 0h24v24H0V0z\" fill=\"none\"/>\n",
              "    <path d=\"M18.56 5.44l.94 2.06.94-2.06 2.06-.94-2.06-.94-.94-2.06-.94 2.06-2.06.94zm-11 1L8.5 8.5l.94-2.06 2.06-.94-2.06-.94L8.5 2.5l-.94 2.06-2.06.94zm10 10l.94 2.06.94-2.06 2.06-.94-2.06-.94-.94-2.06-.94 2.06-2.06.94z\"/><path d=\"M17.41 7.96l-1.37-1.37c-.4-.4-.92-.59-1.43-.59-.52 0-1.04.2-1.43.59L10.3 9.45l-7.72 7.72c-.78.78-.78 2.05 0 2.83L4 21.41c.39.39.9.59 1.41.59.51 0 1.02-.2 1.41-.59l7.78-7.78 2.81-2.81c.8-.78.8-2.07 0-2.86zM5.41 20L4 18.59l7.72-7.72 1.47 1.35L5.41 20z\"/>\n",
              "  </svg>\n",
              "      </button>\n",
              "      \n",
              "  <style>\n",
              "    .colab-df-container {\n",
              "      display:flex;\n",
              "      flex-wrap:wrap;\n",
              "      gap: 12px;\n",
              "    }\n",
              "\n",
              "    .colab-df-convert {\n",
              "      background-color: #E8F0FE;\n",
              "      border: none;\n",
              "      border-radius: 50%;\n",
              "      cursor: pointer;\n",
              "      display: none;\n",
              "      fill: #1967D2;\n",
              "      height: 32px;\n",
              "      padding: 0 0 0 0;\n",
              "      width: 32px;\n",
              "    }\n",
              "\n",
              "    .colab-df-convert:hover {\n",
              "      background-color: #E2EBFA;\n",
              "      box-shadow: 0px 1px 2px rgba(60, 64, 67, 0.3), 0px 1px 3px 1px rgba(60, 64, 67, 0.15);\n",
              "      fill: #174EA6;\n",
              "    }\n",
              "\n",
              "    [theme=dark] .colab-df-convert {\n",
              "      background-color: #3B4455;\n",
              "      fill: #D2E3FC;\n",
              "    }\n",
              "\n",
              "    [theme=dark] .colab-df-convert:hover {\n",
              "      background-color: #434B5C;\n",
              "      box-shadow: 0px 1px 3px 1px rgba(0, 0, 0, 0.15);\n",
              "      filter: drop-shadow(0px 1px 2px rgba(0, 0, 0, 0.3));\n",
              "      fill: #FFFFFF;\n",
              "    }\n",
              "  </style>\n",
              "\n",
              "      <script>\n",
              "        const buttonEl =\n",
              "          document.querySelector('#df-9df658de-a60a-4953-8d1e-5c8ff6d91c67 button.colab-df-convert');\n",
              "        buttonEl.style.display =\n",
              "          google.colab.kernel.accessAllowed ? 'block' : 'none';\n",
              "\n",
              "        async function convertToInteractive(key) {\n",
              "          const element = document.querySelector('#df-9df658de-a60a-4953-8d1e-5c8ff6d91c67');\n",
              "          const dataTable =\n",
              "            await google.colab.kernel.invokeFunction('convertToInteractive',\n",
              "                                                     [key], {});\n",
              "          if (!dataTable) return;\n",
              "\n",
              "          const docLinkHtml = 'Like what you see? Visit the ' +\n",
              "            '<a target=\"_blank\" href=https://colab.research.google.com/notebooks/data_table.ipynb>data table notebook</a>'\n",
              "            + ' to learn more about interactive tables.';\n",
              "          element.innerHTML = '';\n",
              "          dataTable['output_type'] = 'display_data';\n",
              "          await google.colab.output.renderOutput(dataTable, element);\n",
              "          const docLink = document.createElement('div');\n",
              "          docLink.innerHTML = docLinkHtml;\n",
              "          element.appendChild(docLink);\n",
              "        }\n",
              "      </script>\n",
              "    </div>\n",
              "  </div>\n",
              "  "
            ],
            "text/plain": [
              "Empty DataFrame\n",
              "Columns: [App, Category, Rating, Reviews, Size, Installs, Type, Price, Content Rating, Genres, Last Updated, Current Ver, Android Ver]\n",
              "Index: []"
            ]
          },
          "metadata": {},
          "execution_count": 29
        }
      ]
    },
    {
      "cell_type": "markdown",
      "source": [
        "**Now we can see that the columns are converted into Integer and Float.**"
      ],
      "metadata": {
        "id": "8gKNypUGreck"
      }
    },
    {
      "cell_type": "markdown",
      "source": [
        "**Now we will convert the 'Size' from KB to MB**"
      ],
      "metadata": {
        "id": "e5phU2a8rliA"
      }
    },
    {
      "cell_type": "code",
      "source": [
        "# Converting KB to MB \n",
        "Play_store_data_df['Size'] = Play_store_data_df['Size'].apply(lambda x: str(x).replace('Varies with device', 'NaN') if 'Varies with device' in str(x) else x)\n",
        "Play_store_data_df['Size'] = Play_store_data_df['Size'].apply(lambda x: str(x).replace('M', '') if 'M' in str(x) else x)\n",
        "Play_store_data_df['Size'] = Play_store_data_df['Size'].apply(lambda x: str(x).replace(',', '') if 'M' in str(x) else x)\n",
        "Play_store_data_df['Size'] = Play_store_data_df['Size'].apply(lambda x: float(str(x).replace('k', '')) / 1000 if 'k' in str(x) else x)\n",
        "Play_store_data_df['Size'] = Play_store_data_df['Size'].apply(lambda x: float(x))"
      ],
      "metadata": {
        "id": "3BibQzCyrPu7"
      },
      "execution_count": null,
      "outputs": []
    },
    {
      "cell_type": "code",
      "source": [
        "Play_store_data_df.isnull().sum()"
      ],
      "metadata": {
        "colab": {
          "base_uri": "https://localhost:8080/"
        },
        "id": "vqzeCtUir1p6",
        "outputId": "40a59ec8-e876-4299-8539-385d5758e277"
      },
      "execution_count": null,
      "outputs": [
        {
          "output_type": "execute_result",
          "data": {
            "text/plain": [
              "App                  0\n",
              "Category             0\n",
              "Rating               0\n",
              "Reviews              0\n",
              "Size              1695\n",
              "Installs             0\n",
              "Type                 0\n",
              "Price                0\n",
              "Content Rating       0\n",
              "Genres               0\n",
              "Last Updated         0\n",
              "Current Ver          0\n",
              "Android Ver          0\n",
              "dtype: int64"
            ]
          },
          "metadata": {},
          "execution_count": 31
        }
      ]
    },
    {
      "cell_type": "markdown",
      "source": [
        "**We can observe that 'Size' column have now 1695 NaN values. We have to remove all the NaN values without changing the datatype. So now we will Convert all the NaN values of the 'Size' column to '0'**"
      ],
      "metadata": {
        "id": "ya82zcNtr7hx"
      }
    },
    {
      "cell_type": "code",
      "source": [
        "Play_store_data_df.loc[Play_store_data_df['Size'].isnull(),'Size']=0"
      ],
      "metadata": {
        "id": "s8Z0dwTPr8-h"
      },
      "execution_count": null,
      "outputs": []
    },
    {
      "cell_type": "code",
      "source": [
        "Play_store_data_df.info()"
      ],
      "metadata": {
        "colab": {
          "base_uri": "https://localhost:8080/"
        },
        "id": "CrVYp5c2sEyK",
        "outputId": "8cc705ec-cd71-42c3-9234-f16d35f3f9f1"
      },
      "execution_count": null,
      "outputs": [
        {
          "output_type": "stream",
          "name": "stdout",
          "text": [
            "<class 'pandas.core.frame.DataFrame'>\n",
            "Int64Index: 10840 entries, 0 to 10840\n",
            "Data columns (total 13 columns):\n",
            " #   Column          Non-Null Count  Dtype  \n",
            "---  ------          --------------  -----  \n",
            " 0   App             10840 non-null  object \n",
            " 1   Category        10840 non-null  object \n",
            " 2   Rating          10840 non-null  float64\n",
            " 3   Reviews         10840 non-null  int64  \n",
            " 4   Size            10840 non-null  float64\n",
            " 5   Installs        10840 non-null  int64  \n",
            " 6   Type            10840 non-null  object \n",
            " 7   Price           10840 non-null  float64\n",
            " 8   Content Rating  10840 non-null  object \n",
            " 9   Genres          10840 non-null  object \n",
            " 10  Last Updated    10840 non-null  object \n",
            " 11  Current Ver     10840 non-null  object \n",
            " 12  Android Ver     10840 non-null  object \n",
            "dtypes: float64(3), int64(2), object(8)\n",
            "memory usage: 1.2+ MB\n"
          ]
        }
      ]
    },
    {
      "cell_type": "markdown",
      "source": [
        "**So now all column have zero NaN values**"
      ],
      "metadata": {
        "id": "2kRWOv-msSJb"
      }
    },
    {
      "cell_type": "markdown",
      "source": [
        "## **Now we will check is there any duplicate row or not.**"
      ],
      "metadata": {
        "id": "JMxFQMH5sfKK"
      }
    },
    {
      "cell_type": "code",
      "source": [
        "Play_store_data_df['App'].value_counts()"
      ],
      "metadata": {
        "colab": {
          "base_uri": "https://localhost:8080/"
        },
        "id": "vjoVcsnKsJBL",
        "outputId": "a77a7e8f-8f7c-4066-f034-30201d185100"
      },
      "execution_count": null,
      "outputs": [
        {
          "output_type": "execute_result",
          "data": {
            "text/plain": [
              "ROBLOX                                                9\n",
              "CBS Sports App - Scores, News, Stats & Watch Live     8\n",
              "ESPN                                                  7\n",
              "Duolingo: Learn Languages Free                        7\n",
              "Candy Crush Saga                                      7\n",
              "                                                     ..\n",
              "Meet U - Get Friends for Snapchat, Kik & Instagram    1\n",
              "U-Report                                              1\n",
              "U of I Community Credit Union                         1\n",
              "Waiting For U Launcher Theme                          1\n",
              "iHoroscope - 2018 Daily Horoscope & Astrology         1\n",
              "Name: App, Length: 9659, dtype: int64"
            ]
          },
          "metadata": {},
          "execution_count": 34
        }
      ]
    },
    {
      "cell_type": "markdown",
      "source": [
        "**From the above data we are observing that we have more than one rows of same 'App' name. So we will take one app and will check all the details.**"
      ],
      "metadata": {
        "id": "zU9jog-qs1cj"
      }
    },
    {
      "cell_type": "code",
      "source": [
        "Play_store_data_df[Play_store_data_df['App']=='Candy Crush Saga']"
      ],
      "metadata": {
        "colab": {
          "base_uri": "https://localhost:8080/",
          "height": 269
        },
        "id": "WugFzWPes6JB",
        "outputId": "37b05ba3-583d-42c6-f0f7-90a14525c74c"
      },
      "execution_count": null,
      "outputs": [
        {
          "output_type": "execute_result",
          "data": {
            "text/html": [
              "\n",
              "  <div id=\"df-ff8057a0-974f-43ee-aec1-4185985f4408\">\n",
              "    <div class=\"colab-df-container\">\n",
              "      <div>\n",
              "<style scoped>\n",
              "    .dataframe tbody tr th:only-of-type {\n",
              "        vertical-align: middle;\n",
              "    }\n",
              "\n",
              "    .dataframe tbody tr th {\n",
              "        vertical-align: top;\n",
              "    }\n",
              "\n",
              "    .dataframe thead th {\n",
              "        text-align: right;\n",
              "    }\n",
              "</style>\n",
              "<table border=\"1\" class=\"dataframe\">\n",
              "  <thead>\n",
              "    <tr style=\"text-align: right;\">\n",
              "      <th></th>\n",
              "      <th>App</th>\n",
              "      <th>Category</th>\n",
              "      <th>Rating</th>\n",
              "      <th>Reviews</th>\n",
              "      <th>Size</th>\n",
              "      <th>Installs</th>\n",
              "      <th>Type</th>\n",
              "      <th>Price</th>\n",
              "      <th>Content Rating</th>\n",
              "      <th>Genres</th>\n",
              "      <th>Last Updated</th>\n",
              "      <th>Current Ver</th>\n",
              "      <th>Android Ver</th>\n",
              "    </tr>\n",
              "  </thead>\n",
              "  <tbody>\n",
              "    <tr>\n",
              "      <th>1655</th>\n",
              "      <td>Candy Crush Saga</td>\n",
              "      <td>GAME</td>\n",
              "      <td>4.4</td>\n",
              "      <td>22426677</td>\n",
              "      <td>74.0</td>\n",
              "      <td>500000000</td>\n",
              "      <td>Free</td>\n",
              "      <td>0.0</td>\n",
              "      <td>Everyone</td>\n",
              "      <td>Casual</td>\n",
              "      <td>July 5, 2018</td>\n",
              "      <td>1.129.0.2</td>\n",
              "      <td>4.1 and up</td>\n",
              "    </tr>\n",
              "    <tr>\n",
              "      <th>1705</th>\n",
              "      <td>Candy Crush Saga</td>\n",
              "      <td>GAME</td>\n",
              "      <td>4.4</td>\n",
              "      <td>22428456</td>\n",
              "      <td>74.0</td>\n",
              "      <td>500000000</td>\n",
              "      <td>Free</td>\n",
              "      <td>0.0</td>\n",
              "      <td>Everyone</td>\n",
              "      <td>Casual</td>\n",
              "      <td>July 5, 2018</td>\n",
              "      <td>1.129.0.2</td>\n",
              "      <td>4.1 and up</td>\n",
              "    </tr>\n",
              "    <tr>\n",
              "      <th>1751</th>\n",
              "      <td>Candy Crush Saga</td>\n",
              "      <td>GAME</td>\n",
              "      <td>4.4</td>\n",
              "      <td>22428456</td>\n",
              "      <td>74.0</td>\n",
              "      <td>500000000</td>\n",
              "      <td>Free</td>\n",
              "      <td>0.0</td>\n",
              "      <td>Everyone</td>\n",
              "      <td>Casual</td>\n",
              "      <td>July 5, 2018</td>\n",
              "      <td>1.129.0.2</td>\n",
              "      <td>4.1 and up</td>\n",
              "    </tr>\n",
              "    <tr>\n",
              "      <th>1842</th>\n",
              "      <td>Candy Crush Saga</td>\n",
              "      <td>GAME</td>\n",
              "      <td>4.4</td>\n",
              "      <td>22429716</td>\n",
              "      <td>74.0</td>\n",
              "      <td>500000000</td>\n",
              "      <td>Free</td>\n",
              "      <td>0.0</td>\n",
              "      <td>Everyone</td>\n",
              "      <td>Casual</td>\n",
              "      <td>July 5, 2018</td>\n",
              "      <td>1.129.0.2</td>\n",
              "      <td>4.1 and up</td>\n",
              "    </tr>\n",
              "    <tr>\n",
              "      <th>1869</th>\n",
              "      <td>Candy Crush Saga</td>\n",
              "      <td>GAME</td>\n",
              "      <td>4.4</td>\n",
              "      <td>22430188</td>\n",
              "      <td>74.0</td>\n",
              "      <td>500000000</td>\n",
              "      <td>Free</td>\n",
              "      <td>0.0</td>\n",
              "      <td>Everyone</td>\n",
              "      <td>Casual</td>\n",
              "      <td>July 5, 2018</td>\n",
              "      <td>1.129.0.2</td>\n",
              "      <td>4.1 and up</td>\n",
              "    </tr>\n",
              "    <tr>\n",
              "      <th>1966</th>\n",
              "      <td>Candy Crush Saga</td>\n",
              "      <td>GAME</td>\n",
              "      <td>4.4</td>\n",
              "      <td>22430188</td>\n",
              "      <td>74.0</td>\n",
              "      <td>500000000</td>\n",
              "      <td>Free</td>\n",
              "      <td>0.0</td>\n",
              "      <td>Everyone</td>\n",
              "      <td>Casual</td>\n",
              "      <td>July 5, 2018</td>\n",
              "      <td>1.129.0.2</td>\n",
              "      <td>4.1 and up</td>\n",
              "    </tr>\n",
              "    <tr>\n",
              "      <th>3994</th>\n",
              "      <td>Candy Crush Saga</td>\n",
              "      <td>FAMILY</td>\n",
              "      <td>4.4</td>\n",
              "      <td>22419455</td>\n",
              "      <td>74.0</td>\n",
              "      <td>500000000</td>\n",
              "      <td>Free</td>\n",
              "      <td>0.0</td>\n",
              "      <td>Everyone</td>\n",
              "      <td>Casual</td>\n",
              "      <td>July 5, 2018</td>\n",
              "      <td>1.129.0.2</td>\n",
              "      <td>4.1 and up</td>\n",
              "    </tr>\n",
              "  </tbody>\n",
              "</table>\n",
              "</div>\n",
              "      <button class=\"colab-df-convert\" onclick=\"convertToInteractive('df-ff8057a0-974f-43ee-aec1-4185985f4408')\"\n",
              "              title=\"Convert this dataframe to an interactive table.\"\n",
              "              style=\"display:none;\">\n",
              "        \n",
              "  <svg xmlns=\"http://www.w3.org/2000/svg\" height=\"24px\"viewBox=\"0 0 24 24\"\n",
              "       width=\"24px\">\n",
              "    <path d=\"M0 0h24v24H0V0z\" fill=\"none\"/>\n",
              "    <path d=\"M18.56 5.44l.94 2.06.94-2.06 2.06-.94-2.06-.94-.94-2.06-.94 2.06-2.06.94zm-11 1L8.5 8.5l.94-2.06 2.06-.94-2.06-.94L8.5 2.5l-.94 2.06-2.06.94zm10 10l.94 2.06.94-2.06 2.06-.94-2.06-.94-.94-2.06-.94 2.06-2.06.94z\"/><path d=\"M17.41 7.96l-1.37-1.37c-.4-.4-.92-.59-1.43-.59-.52 0-1.04.2-1.43.59L10.3 9.45l-7.72 7.72c-.78.78-.78 2.05 0 2.83L4 21.41c.39.39.9.59 1.41.59.51 0 1.02-.2 1.41-.59l7.78-7.78 2.81-2.81c.8-.78.8-2.07 0-2.86zM5.41 20L4 18.59l7.72-7.72 1.47 1.35L5.41 20z\"/>\n",
              "  </svg>\n",
              "      </button>\n",
              "      \n",
              "  <style>\n",
              "    .colab-df-container {\n",
              "      display:flex;\n",
              "      flex-wrap:wrap;\n",
              "      gap: 12px;\n",
              "    }\n",
              "\n",
              "    .colab-df-convert {\n",
              "      background-color: #E8F0FE;\n",
              "      border: none;\n",
              "      border-radius: 50%;\n",
              "      cursor: pointer;\n",
              "      display: none;\n",
              "      fill: #1967D2;\n",
              "      height: 32px;\n",
              "      padding: 0 0 0 0;\n",
              "      width: 32px;\n",
              "    }\n",
              "\n",
              "    .colab-df-convert:hover {\n",
              "      background-color: #E2EBFA;\n",
              "      box-shadow: 0px 1px 2px rgba(60, 64, 67, 0.3), 0px 1px 3px 1px rgba(60, 64, 67, 0.15);\n",
              "      fill: #174EA6;\n",
              "    }\n",
              "\n",
              "    [theme=dark] .colab-df-convert {\n",
              "      background-color: #3B4455;\n",
              "      fill: #D2E3FC;\n",
              "    }\n",
              "\n",
              "    [theme=dark] .colab-df-convert:hover {\n",
              "      background-color: #434B5C;\n",
              "      box-shadow: 0px 1px 3px 1px rgba(0, 0, 0, 0.15);\n",
              "      filter: drop-shadow(0px 1px 2px rgba(0, 0, 0, 0.3));\n",
              "      fill: #FFFFFF;\n",
              "    }\n",
              "  </style>\n",
              "\n",
              "      <script>\n",
              "        const buttonEl =\n",
              "          document.querySelector('#df-ff8057a0-974f-43ee-aec1-4185985f4408 button.colab-df-convert');\n",
              "        buttonEl.style.display =\n",
              "          google.colab.kernel.accessAllowed ? 'block' : 'none';\n",
              "\n",
              "        async function convertToInteractive(key) {\n",
              "          const element = document.querySelector('#df-ff8057a0-974f-43ee-aec1-4185985f4408');\n",
              "          const dataTable =\n",
              "            await google.colab.kernel.invokeFunction('convertToInteractive',\n",
              "                                                     [key], {});\n",
              "          if (!dataTable) return;\n",
              "\n",
              "          const docLinkHtml = 'Like what you see? Visit the ' +\n",
              "            '<a target=\"_blank\" href=https://colab.research.google.com/notebooks/data_table.ipynb>data table notebook</a>'\n",
              "            + ' to learn more about interactive tables.';\n",
              "          element.innerHTML = '';\n",
              "          dataTable['output_type'] = 'display_data';\n",
              "          await google.colab.output.renderOutput(dataTable, element);\n",
              "          const docLink = document.createElement('div');\n",
              "          docLink.innerHTML = docLinkHtml;\n",
              "          element.appendChild(docLink);\n",
              "        }\n",
              "      </script>\n",
              "    </div>\n",
              "  </div>\n",
              "  "
            ],
            "text/plain": [
              "                   App Category  Rating  ...  Last Updated  Current Ver  Android Ver\n",
              "1655  Candy Crush Saga     GAME     4.4  ...  July 5, 2018    1.129.0.2   4.1 and up\n",
              "1705  Candy Crush Saga     GAME     4.4  ...  July 5, 2018    1.129.0.2   4.1 and up\n",
              "1751  Candy Crush Saga     GAME     4.4  ...  July 5, 2018    1.129.0.2   4.1 and up\n",
              "1842  Candy Crush Saga     GAME     4.4  ...  July 5, 2018    1.129.0.2   4.1 and up\n",
              "1869  Candy Crush Saga     GAME     4.4  ...  July 5, 2018    1.129.0.2   4.1 and up\n",
              "1966  Candy Crush Saga     GAME     4.4  ...  July 5, 2018    1.129.0.2   4.1 and up\n",
              "3994  Candy Crush Saga   FAMILY     4.4  ...  July 5, 2018    1.129.0.2   4.1 and up\n",
              "\n",
              "[7 rows x 13 columns]"
            ]
          },
          "metadata": {},
          "execution_count": 35
        }
      ]
    },
    {
      "cell_type": "markdown",
      "source": [
        "**From the above data we are observing that same name has multiple rows with almost same properties. So we will remove all the identical rows.**"
      ],
      "metadata": {
        "id": "ZU596XHGtJr5"
      }
    },
    {
      "cell_type": "code",
      "source": [
        "Play_store_data_df.drop_duplicates(inplace=True)"
      ],
      "metadata": {
        "id": "hgsbQgY8tQKU"
      },
      "execution_count": null,
      "outputs": []
    },
    {
      "cell_type": "markdown",
      "source": [
        "# **Data Visualization**"
      ],
      "metadata": {
        "id": "A7D-BxhHVAOh"
      }
    },
    {
      "cell_type": "code",
      "source": [
        "Play_store_data_df.head(5)"
      ],
      "metadata": {
        "colab": {
          "base_uri": "https://localhost:8080/",
          "height": 354
        },
        "id": "wDK9zJ1KVHmn",
        "outputId": "0bbf971f-72a1-4d2a-d415-1fc03579c482"
      },
      "execution_count": null,
      "outputs": [
        {
          "output_type": "execute_result",
          "data": {
            "text/html": [
              "\n",
              "  <div id=\"df-6ea9aaa1-8113-475e-b6fb-5dc2784df773\">\n",
              "    <div class=\"colab-df-container\">\n",
              "      <div>\n",
              "<style scoped>\n",
              "    .dataframe tbody tr th:only-of-type {\n",
              "        vertical-align: middle;\n",
              "    }\n",
              "\n",
              "    .dataframe tbody tr th {\n",
              "        vertical-align: top;\n",
              "    }\n",
              "\n",
              "    .dataframe thead th {\n",
              "        text-align: right;\n",
              "    }\n",
              "</style>\n",
              "<table border=\"1\" class=\"dataframe\">\n",
              "  <thead>\n",
              "    <tr style=\"text-align: right;\">\n",
              "      <th></th>\n",
              "      <th>App</th>\n",
              "      <th>Category</th>\n",
              "      <th>Rating</th>\n",
              "      <th>Reviews</th>\n",
              "      <th>Size</th>\n",
              "      <th>Installs</th>\n",
              "      <th>Type</th>\n",
              "      <th>Price</th>\n",
              "      <th>Content Rating</th>\n",
              "      <th>Genres</th>\n",
              "      <th>Last Updated</th>\n",
              "      <th>Current Ver</th>\n",
              "      <th>Android Ver</th>\n",
              "    </tr>\n",
              "  </thead>\n",
              "  <tbody>\n",
              "    <tr>\n",
              "      <th>0</th>\n",
              "      <td>Photo Editor &amp; Candy Camera &amp; Grid &amp; ScrapBook</td>\n",
              "      <td>ART_AND_DESIGN</td>\n",
              "      <td>4.1</td>\n",
              "      <td>159</td>\n",
              "      <td>19.0</td>\n",
              "      <td>10000</td>\n",
              "      <td>Free</td>\n",
              "      <td>0.0</td>\n",
              "      <td>Everyone</td>\n",
              "      <td>Art &amp; Design</td>\n",
              "      <td>January 7, 2018</td>\n",
              "      <td>1.0.0</td>\n",
              "      <td>4.0.3 and up</td>\n",
              "    </tr>\n",
              "    <tr>\n",
              "      <th>1</th>\n",
              "      <td>Coloring book moana</td>\n",
              "      <td>ART_AND_DESIGN</td>\n",
              "      <td>3.9</td>\n",
              "      <td>967</td>\n",
              "      <td>14.0</td>\n",
              "      <td>500000</td>\n",
              "      <td>Free</td>\n",
              "      <td>0.0</td>\n",
              "      <td>Everyone</td>\n",
              "      <td>Art &amp; Design;Pretend Play</td>\n",
              "      <td>January 15, 2018</td>\n",
              "      <td>2.0.0</td>\n",
              "      <td>4.0.3 and up</td>\n",
              "    </tr>\n",
              "    <tr>\n",
              "      <th>2</th>\n",
              "      <td>U Launcher Lite – FREE Live Cool Themes, Hide ...</td>\n",
              "      <td>ART_AND_DESIGN</td>\n",
              "      <td>4.7</td>\n",
              "      <td>87510</td>\n",
              "      <td>8.7</td>\n",
              "      <td>5000000</td>\n",
              "      <td>Free</td>\n",
              "      <td>0.0</td>\n",
              "      <td>Everyone</td>\n",
              "      <td>Art &amp; Design</td>\n",
              "      <td>August 1, 2018</td>\n",
              "      <td>1.2.4</td>\n",
              "      <td>4.0.3 and up</td>\n",
              "    </tr>\n",
              "    <tr>\n",
              "      <th>3</th>\n",
              "      <td>Sketch - Draw &amp; Paint</td>\n",
              "      <td>ART_AND_DESIGN</td>\n",
              "      <td>4.5</td>\n",
              "      <td>215644</td>\n",
              "      <td>25.0</td>\n",
              "      <td>50000000</td>\n",
              "      <td>Free</td>\n",
              "      <td>0.0</td>\n",
              "      <td>Teen</td>\n",
              "      <td>Art &amp; Design</td>\n",
              "      <td>June 8, 2018</td>\n",
              "      <td>Varies with device</td>\n",
              "      <td>4.2 and up</td>\n",
              "    </tr>\n",
              "    <tr>\n",
              "      <th>4</th>\n",
              "      <td>Pixel Draw - Number Art Coloring Book</td>\n",
              "      <td>ART_AND_DESIGN</td>\n",
              "      <td>4.3</td>\n",
              "      <td>967</td>\n",
              "      <td>2.8</td>\n",
              "      <td>100000</td>\n",
              "      <td>Free</td>\n",
              "      <td>0.0</td>\n",
              "      <td>Everyone</td>\n",
              "      <td>Art &amp; Design;Creativity</td>\n",
              "      <td>June 20, 2018</td>\n",
              "      <td>1.1</td>\n",
              "      <td>4.4 and up</td>\n",
              "    </tr>\n",
              "  </tbody>\n",
              "</table>\n",
              "</div>\n",
              "      <button class=\"colab-df-convert\" onclick=\"convertToInteractive('df-6ea9aaa1-8113-475e-b6fb-5dc2784df773')\"\n",
              "              title=\"Convert this dataframe to an interactive table.\"\n",
              "              style=\"display:none;\">\n",
              "        \n",
              "  <svg xmlns=\"http://www.w3.org/2000/svg\" height=\"24px\"viewBox=\"0 0 24 24\"\n",
              "       width=\"24px\">\n",
              "    <path d=\"M0 0h24v24H0V0z\" fill=\"none\"/>\n",
              "    <path d=\"M18.56 5.44l.94 2.06.94-2.06 2.06-.94-2.06-.94-.94-2.06-.94 2.06-2.06.94zm-11 1L8.5 8.5l.94-2.06 2.06-.94-2.06-.94L8.5 2.5l-.94 2.06-2.06.94zm10 10l.94 2.06.94-2.06 2.06-.94-2.06-.94-.94-2.06-.94 2.06-2.06.94z\"/><path d=\"M17.41 7.96l-1.37-1.37c-.4-.4-.92-.59-1.43-.59-.52 0-1.04.2-1.43.59L10.3 9.45l-7.72 7.72c-.78.78-.78 2.05 0 2.83L4 21.41c.39.39.9.59 1.41.59.51 0 1.02-.2 1.41-.59l7.78-7.78 2.81-2.81c.8-.78.8-2.07 0-2.86zM5.41 20L4 18.59l7.72-7.72 1.47 1.35L5.41 20z\"/>\n",
              "  </svg>\n",
              "      </button>\n",
              "      \n",
              "  <style>\n",
              "    .colab-df-container {\n",
              "      display:flex;\n",
              "      flex-wrap:wrap;\n",
              "      gap: 12px;\n",
              "    }\n",
              "\n",
              "    .colab-df-convert {\n",
              "      background-color: #E8F0FE;\n",
              "      border: none;\n",
              "      border-radius: 50%;\n",
              "      cursor: pointer;\n",
              "      display: none;\n",
              "      fill: #1967D2;\n",
              "      height: 32px;\n",
              "      padding: 0 0 0 0;\n",
              "      width: 32px;\n",
              "    }\n",
              "\n",
              "    .colab-df-convert:hover {\n",
              "      background-color: #E2EBFA;\n",
              "      box-shadow: 0px 1px 2px rgba(60, 64, 67, 0.3), 0px 1px 3px 1px rgba(60, 64, 67, 0.15);\n",
              "      fill: #174EA6;\n",
              "    }\n",
              "\n",
              "    [theme=dark] .colab-df-convert {\n",
              "      background-color: #3B4455;\n",
              "      fill: #D2E3FC;\n",
              "    }\n",
              "\n",
              "    [theme=dark] .colab-df-convert:hover {\n",
              "      background-color: #434B5C;\n",
              "      box-shadow: 0px 1px 3px 1px rgba(0, 0, 0, 0.15);\n",
              "      filter: drop-shadow(0px 1px 2px rgba(0, 0, 0, 0.3));\n",
              "      fill: #FFFFFF;\n",
              "    }\n",
              "  </style>\n",
              "\n",
              "      <script>\n",
              "        const buttonEl =\n",
              "          document.querySelector('#df-6ea9aaa1-8113-475e-b6fb-5dc2784df773 button.colab-df-convert');\n",
              "        buttonEl.style.display =\n",
              "          google.colab.kernel.accessAllowed ? 'block' : 'none';\n",
              "\n",
              "        async function convertToInteractive(key) {\n",
              "          const element = document.querySelector('#df-6ea9aaa1-8113-475e-b6fb-5dc2784df773');\n",
              "          const dataTable =\n",
              "            await google.colab.kernel.invokeFunction('convertToInteractive',\n",
              "                                                     [key], {});\n",
              "          if (!dataTable) return;\n",
              "\n",
              "          const docLinkHtml = 'Like what you see? Visit the ' +\n",
              "            '<a target=\"_blank\" href=https://colab.research.google.com/notebooks/data_table.ipynb>data table notebook</a>'\n",
              "            + ' to learn more about interactive tables.';\n",
              "          element.innerHTML = '';\n",
              "          dataTable['output_type'] = 'display_data';\n",
              "          await google.colab.output.renderOutput(dataTable, element);\n",
              "          const docLink = document.createElement('div');\n",
              "          docLink.innerHTML = docLinkHtml;\n",
              "          element.appendChild(docLink);\n",
              "        }\n",
              "      </script>\n",
              "    </div>\n",
              "  </div>\n",
              "  "
            ],
            "text/plain": [
              "                                                 App  ...   Android Ver\n",
              "0     Photo Editor & Candy Camera & Grid & ScrapBook  ...  4.0.3 and up\n",
              "1                                Coloring book moana  ...  4.0.3 and up\n",
              "2  U Launcher Lite – FREE Live Cool Themes, Hide ...  ...  4.0.3 and up\n",
              "3                              Sketch - Draw & Paint  ...    4.2 and up\n",
              "4              Pixel Draw - Number Art Coloring Book  ...    4.4 and up\n",
              "\n",
              "[5 rows x 13 columns]"
            ]
          },
          "metadata": {},
          "execution_count": 37
        }
      ]
    },
    {
      "cell_type": "markdown",
      "source": [
        "# **Below graph is showing number of applications according to their size-**"
      ],
      "metadata": {
        "id": "27QLw_icVR7a"
      }
    },
    {
      "cell_type": "code",
      "source": [
        "plt.xlabel(\"Size\")\n",
        "plt.ylabel('Number of application')\n",
        "plt.title(\"Distribution of Size\")\n",
        "plt.hist(Play_store_data_df['Size'] , color='brown', edgecolor='white');\n",
        "plt.show()\n",
        "plt.rcParams['figure.figsize'] = (25, 5)\n",
        "plt.rcParams['font.size'] = 18\n"
      ],
      "metadata": {
        "colab": {
          "base_uri": "https://localhost:8080/",
          "height": 315
        },
        "id": "EZfIvZinVW14",
        "outputId": "cde74f4d-2711-4bbb-fc9c-f7eae4f13bff"
      },
      "execution_count": null,
      "outputs": [
        {
          "output_type": "display_data",
          "data": {
            "image/png": "[encoded data removed]",
            "text/plain": [
              "<Figure size 1800x360 with 1 Axes>"
            ]
          },
          "metadata": {
            "needs_background": "light"
          }
        }
      ]
    },
    {
      "cell_type": "markdown",
      "source": [
        "**It can be seen that maximum small size application are present in dataset.**"
      ],
      "metadata": {
        "id": "Rm86SVlCWO4K"
      }
    },
    {
      "cell_type": "markdown",
      "source": [
        "# **Installation according to Size-**"
      ],
      "metadata": {
        "id": "xHDd_ElnWUph"
      }
    },
    {
      "cell_type": "code",
      "source": [
        "installs_by_size= Play_store_data_df.groupby(['Size'])[['Installs']].sum().sort_values(by='Installs', ascending=False).head(20)"
      ],
      "metadata": {
        "id": "tj7lPELhWcxx"
      },
      "execution_count": null,
      "outputs": []
    },
    {
      "cell_type": "code",
      "source": [
        "installs_by_size.plot(kind='bar')\n",
        "plt.xticks(rotation=0)\n",
        "plt.title('Installation according to size')\n",
        "plt.ylabel('Number of Installs')\n",
        "plt.xlabel('size')\n"
      ],
      "metadata": {
        "colab": {
          "base_uri": "https://localhost:8080/",
          "height": 339
        },
        "id": "ZVgShpmQZwxa",
        "outputId": "cf7ad18a-3b44-4365-b00e-3037585f9493"
      },
      "execution_count": null,
      "outputs": [
        {
          "output_type": "execute_result",
          "data": {
            "text/plain": [
              "Text(0.5, 0, 'size')"
            ]
          },
          "metadata": {},
          "execution_count": 42
        },
        {
          "output_type": "display_data",
          "data": {
            "image/png": "[encoded data removed]",
            "text/plain": [
              "<Figure size 1800x360 with 1 Axes>"
            ]
          },
          "metadata": {
            "needs_background": "light"
          }
        }
      ]
    },
    {
      "cell_type": "markdown",
      "source": [
        "# **Top 20 Installs according to Genres-**"
      ],
      "metadata": {
        "id": "v1HakgSgZ7vr"
      }
    },
    {
      "cell_type": "code",
      "source": [
        "Top_20_installs= Play_store_data_df.groupby(['Genres'])[['Installs']].sum().sort_values(by='Installs', ascending=False).head(20)"
      ],
      "metadata": {
        "id": "HlQ5Tq2IaFth"
      },
      "execution_count": null,
      "outputs": []
    },
    {
      "cell_type": "code",
      "source": [
        "Top_20_installs.plot(kind='bar')\n",
        "plt.xticks(rotation=90)\n",
        "plt.title('Top_20_installs according to Genres')\n",
        "plt.ylabel('Number of Installs')\n",
        "plt.xlabel('Genres')\n"
      ],
      "metadata": {
        "colab": {
          "base_uri": "https://localhost:8080/",
          "height": 498
        },
        "id": "uelKdCioaLnh",
        "outputId": "7e8518ea-9619-4ddd-cd1b-cf9d31a5731d"
      },
      "execution_count": null,
      "outputs": [
        {
          "output_type": "execute_result",
          "data": {
            "text/plain": [
              "Text(0.5, 0, 'Genres')"
            ]
          },
          "metadata": {},
          "execution_count": 44
        },
        {
          "output_type": "display_data",
          "data": {
            "image/png": "[encoded data removed]",
            "text/plain": [
              "<Figure size 1800x360 with 1 Axes>"
            ]
          },
          "metadata": {
            "needs_background": "light"
          }
        }
      ]
    },
    {
      "cell_type": "markdown",
      "source": [
        "# **Installation according to Type-**"
      ],
      "metadata": {
        "id": "m-abG4L5ab0_"
      }
    },
    {
      "cell_type": "code",
      "source": [
        "plt.title('Installation according to Type')\n",
        "sns.barplot(x='Type', y='Installs', data=Play_store_data_df, ci=100, color='G', errwidth= 10)\n",
        "plt.show()"
      ],
      "metadata": {
        "colab": {
          "base_uri": "https://localhost:8080/",
          "height": 373
        },
        "id": "8biwNu5aaf9V",
        "outputId": "5afaf541-cbf5-4618-fb18-f6eafa93ee46"
      },
      "execution_count": null,
      "outputs": [
        {
          "output_type": "stream",
          "name": "stderr",
          "text": [
            "/usr/local/lib/python3.7/dist-packages/seaborn/utils.py:124: MatplotlibDeprecationWarning: Support for uppercase single-letter colors is deprecated since Matplotlib 3.1 and will be removed in 3.3; please use lowercase instead.\n",
            "  rgb = mplcol.colorConverter.to_rgb(color)\n"
          ]
        },
        {
          "output_type": "display_data",
          "data": {
            "image/png": "[encoded data removed]",
            "text/plain": [
              "<Figure size 1800x360 with 1 Axes>"
            ]
          },
          "metadata": {
            "needs_background": "light"
          }
        }
      ]
    },
    {
      "cell_type": "markdown",
      "source": [
        "**By this graph we can conclude that the free applications are mostly installed by the users. The number of installation of paid application is negligible.**"
      ],
      "metadata": {
        "id": "JxKsLOtHan3p"
      }
    },
    {
      "cell_type": "markdown",
      "source": [
        "# **Installation according to Ratings-**"
      ],
      "metadata": {
        "id": "NjdH9h6eawcq"
      }
    },
    {
      "cell_type": "code",
      "source": [
        "plt.figure(figsize=(25,8))\n",
        "plt.rcParams['font.size'] = 18\n",
        "plt.title('Installation according to Ratings')\n",
        "sns.barplot(x='Rating', y='Installs', data=Play_store_data_df,  palette='hot', errwidth= 2)"
      ],
      "metadata": {
        "colab": {
          "base_uri": "https://localhost:8080/",
          "height": 474
        },
        "id": "ffIuMX2pa2aM",
        "outputId": "ec7d35e9-69ee-49a1-bdbc-26ed3c718b08"
      },
      "execution_count": null,
      "outputs": [
        {
          "output_type": "execute_result",
          "data": {
            "text/plain": [
              "<matplotlib.axes._subplots.AxesSubplot at 0x7f40b0d26790>"
            ]
          },
          "metadata": {},
          "execution_count": 52
        },
        {
          "output_type": "display_data",
          "data": {
            "image/png": "[encoded data removed]",
            "text/plain": [
              "<Figure size 1800x576 with 1 Axes>"
            ]
          },
          "metadata": {
            "needs_background": "light"
          }
        }
      ]
    },
    {
      "cell_type": "markdown",
      "source": [
        "**By this graph we can see that people install the application according to the ratings. Maximum number of application are installed whose rating is more than 3.5.**"
      ],
      "metadata": {
        "id": "gRAwgSg5bB3l"
      }
    },
    {
      "cell_type": "markdown",
      "source": [
        "## **Now we will add the User Review csv file**\n",
        "\n",
        "> We will merge the User Review dataframe with Apps\n"
      ],
      "metadata": {
        "id": "LJaqdUFobLMT"
      }
    },
    {
      "cell_type": "code",
      "source": [
        "User_review_data_df = pd.read_csv('/content/drive/MyDrive/Colab Notebooks/Play Store App Review Analysis - SUMIT KUMAR DHIBAR/User Reviews.csv')\n",
        "\n",
        "merge_df = Play_store_data_df.merge(User_review_data_df, on='App')\n",
        "\n",
        "merge_df.columns"
      ],
      "metadata": {
        "colab": {
          "base_uri": "https://localhost:8080/"
        },
        "id": "XjwoNKCjbXtD",
        "outputId": "a9bff57d-90f2-4595-92ea-390e4315867f"
      },
      "execution_count": null,
      "outputs": [
        {
          "output_type": "execute_result",
          "data": {
            "text/plain": [
              "Index(['App', 'Category', 'Rating', 'Reviews', 'Size', 'Installs', 'Type',\n",
              "       'Price', 'Content Rating', 'Genres', 'Last Updated', 'Current Ver',\n",
              "       'Android Ver', 'Translated_Review', 'Sentiment', 'Sentiment_Polarity',\n",
              "       'Sentiment_Subjectivity'],\n",
              "      dtype='object')"
            ]
          },
          "metadata": {},
          "execution_count": 53
        }
      ]
    },
    {
      "cell_type": "markdown",
      "source": [
        "**So now our dataframe has Four new columns 'Translated_Review', 'Sentiment', 'Sentiment_Polarity','Sentiment_Subjectivity'.**\n",
        "\n",
        "> Sentiment basically determines the attitude or the emotion of the writer, i.e., whether it is positive or negative or neutral. \n",
        "\n",
        "> Sentiment Polarity is float which lies in the range of [-1,1] where 1 means positive statement and -1 means a negative statement.\n",
        "\n",
        "> Sentiment Subjectivity generally refer to personal opinion, emotion or judgment, which lies in the range of [0,1].\n"
      ],
      "metadata": {
        "id": "F-ECG4lXbwtd"
      }
    },
    {
      "cell_type": "markdown",
      "source": [
        "# **Number of installs Sentiment wise according to Genres**"
      ],
      "metadata": {
        "id": "glCIpZxmb3kW"
      }
    },
    {
      "cell_type": "code",
      "source": [
        "category_sentiment = merge_df.groupby(['Category','Sentiment']).size().reset_index(name='Sentiment Count')\n",
        "print(category_sentiment)\n",
        "\n",
        "category_sentiment['log_sentiment_count'] = np.log2(category_sentiment['Sentiment Count'])"
      ],
      "metadata": {
        "colab": {
          "base_uri": "https://localhost:8080/"
        },
        "id": "HclWg1Hub9HP",
        "outputId": "b43848f0-f303-4320-ac06-2c5ba09cb159"
      },
      "execution_count": null,
      "outputs": [
        {
          "output_type": "stream",
          "name": "stdout",
          "text": [
            "             Category Sentiment  Sentiment Count\n",
            "0      ART_AND_DESIGN  Negative               61\n",
            "1      ART_AND_DESIGN   Neutral               62\n",
            "2      ART_AND_DESIGN  Positive              259\n",
            "3   AUTO_AND_VEHICLES  Negative               17\n",
            "4   AUTO_AND_VEHICLES   Neutral               36\n",
            "..                ...       ...              ...\n",
            "94      VIDEO_PLAYERS   Neutral               58\n",
            "95      VIDEO_PLAYERS  Positive              190\n",
            "96            WEATHER  Negative               33\n",
            "97            WEATHER   Neutral               35\n",
            "98            WEATHER  Positive              165\n",
            "\n",
            "[99 rows x 3 columns]\n"
          ]
        }
      ]
    },
    {
      "cell_type": "code",
      "source": [
        "plt.figure(figsize=(18,9))\n",
        "plt.xticks(rotation=90,fontsize=11)\n",
        "plt.xlabel(\"Category\", fontsize=15)\n",
        "plt.ylabel(\"Installs\", fontsize=15)\n",
        "plt.title(\"Number of installs Sentiment wise according to Genres\",fontsize=15)\n",
        "sns.barplot('Category', 'log_sentiment_count', hue='Sentiment', data=category_sentiment);"
      ],
      "metadata": {
        "colab": {
          "base_uri": "https://localhost:8080/",
          "height": 759
        },
        "id": "YrXVdYREcDma",
        "outputId": "df356896-c975-408c-a1a1-26fd35b24517"
      },
      "execution_count": null,
      "outputs": [
        {
          "output_type": "stream",
          "name": "stderr",
          "text": [
            "/usr/local/lib/python3.7/dist-packages/seaborn/_decorators.py:43: FutureWarning: Pass the following variables as keyword args: x, y. From version 0.12, the only valid positional argument will be `data`, and passing other arguments without an explicit keyword will result in an error or misinterpretation.\n",
            "  FutureWarning\n"
          ]
        },
        {
          "output_type": "display_data",
          "data": {
            "image/png": "[encoded data removed]",
            "text/plain": [
              "<Figure size 1296x648 with 1 Axes>"
            ]
          },
          "metadata": {
            "needs_background": "light"
          }
        }
      ]
    },
    {
      "cell_type": "markdown",
      "source": [
        "# **Subjectivity graph**"
      ],
      "metadata": {
        "id": "R8GNSyAhcQcK"
      }
    },
    {
      "cell_type": "code",
      "source": [
        "plt.figure(figsize=(18,9))\n",
        "plt.xlabel(\"Subjectivity\")\n",
        "plt.title(\"Distribution of Subjectivity\")\n",
        "plt.hist(merge_df[merge_df['Sentiment_Subjectivity'].notnull()]['Sentiment_Subjectivity'] , color='skyblue', edgecolor='blue')\n",
        "plt.show()"
      ],
      "metadata": {
        "colab": {
          "base_uri": "https://localhost:8080/",
          "height": 589
        },
        "id": "77ZH8csvcT0g",
        "outputId": "80d017f8-57f6-4c49-e573-684a8c2f874f"
      },
      "execution_count": null,
      "outputs": [
        {
          "output_type": "display_data",
          "data": {
            "image/png": "[encoded data removed]",
            "text/plain": [
              "<Figure size 1296x648 with 1 Axes>"
            ]
          },
          "metadata": {
            "needs_background": "light"
          }
        }
      ]
    },
    {
      "cell_type": "markdown",
      "source": [
        "**By this graph we can conclude that maximum number of users give reviews according to their experience**"
      ],
      "metadata": {
        "id": "F3XjDHstcgJ1"
      }
    },
    {
      "cell_type": "markdown",
      "source": [
        "# **Conclusion-**"
      ],
      "metadata": {
        "id": "CpIiCtYvf3UF"
      }
    },
    {
      "cell_type": "markdown",
      "source": [
        "After completion of this project we got some conclusions -\n",
        "\n",
        "*   Users prefer to install free applications more.\n",
        "\n",
        "*   Communication category apps are in high demand for all type of users.\n",
        "\n",
        "\n",
        "*   A part of our population ( 18-30 yr age people) use Gaming category applications a lot and give reviews according to their Sentiments. So developers have to keep proper attention while developing those apps or making change.\n",
        "*  Users installs the application depends according to previous rating and reviews.\n",
        "![download.jpg](data:image/jpeg;base64,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)"
      ],
      "metadata": {
        "id": "iDziUrsLc4Ro"
      }
    },
    {
      "cell_type": "code",
      "source": [],
      "metadata": {
        "id": "lmlKdOjwjCM_"
      },
      "execution_count": null,
      "outputs": []
    },
    {
      "cell_type": "code",
      "source": [],
      "metadata": {
        "id": "w7_dsEURHcgO"
      },
      "execution_count": null,
      "outputs": []
    },
    {
      "cell_type": "code",
      "source": [],
      "metadata": {
        "id": "hTqLIgvdHes1"
      },
      "execution_count": null,
      "outputs": []
    }
  ]
}